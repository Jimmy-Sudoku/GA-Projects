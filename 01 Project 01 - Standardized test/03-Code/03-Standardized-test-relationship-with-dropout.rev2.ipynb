{
 "cells": [
  {
   "cell_type": "markdown",
   "metadata": {},
   "source": [
    "<img src=\"http://imgur.com/1ZcRyrc.png\" style=\"float: left; margin: 20px; height: 55px\">\n",
    "\n",
    "# Project 1: Can Standardized Test Be Used As The Only Way To Reduce Drop Out?"
   ]
  },
  {
   "cell_type": "markdown",
   "metadata": {},
   "source": [
    "<div style=\"border: 1px solid thistle; padding: 5px 20px 10px 20px;\">\n",
    "    <h2><font color = \"77658f\" style=\";\"> Feedback </font></h2><br>\n",
    "    <font color = \"77658f\"> <br>Project Organisation - Project is relatively well organised, complete with README.md. You can consider putting the codes, datasets and images in separate folders in your Github. It will allow people to find your files with ease. Presentation slides in Github could be renamed to \"Presentation Slides\" so that people won't have to click in to know what the file pertains to.<span style=\"color:red\">done!<span><font color = \"77658f\"><br> Clarity of Message - Problem statement can be slightly buffed up. You can provide some recommendations as well. For example, you can recommend some actions that they can take.  <br> Python Syntax and Control Flow - Competent in writing code and functions.. <br> Data Cleaning and EDA - Data cleaning and EDA were carried out effectively. <br>  Visualisations - Visualisations are generally well done. Observations are also clearly stated beneath the charts as well.<br>Research and Conceptual Understanding - Good effort on the external research to find the dropout rates for the different states. <br> Presentation - Presentation was well paced and did not exceed time limit. Slides were clean and concise. Effective summary slides as well. To include goals and solutions next time. <br><br>\n",
    "        <h2>Scores</h2> <br>\n",
    "        • Project Organisation: <b>2</b> <br>\n",
    "        • Clarity of Message: <b>2</b> <br>\n",
    "        • Python Syntax and Control Flow: <b>3</b><br>\n",
    "        • Data Cleaning and EDA: <b>3</b><br>\n",
    "        • Visualisations: <b>3</b><br>\n",
    "        • Research and Conceptual Understanding: <b>3</b><br> \n",
    "        • Presentation: <b>3</b><br>\n",
    "    </font>\n",
    "</div>"
   ]
  },
  {
   "cell_type": "markdown",
   "metadata": {},
   "source": [
    "## Problem Statement"
   ]
  },
  {
   "cell_type": "markdown",
   "metadata": {},
   "source": [
    "We, from the Data Science Department in University, are tasked by the University Admission and Finance Department to determine if standardized test is the only way for admissions process for predicting and reducing the number of dropouts so that Universiry will have a more stable source of revenue."
   ]
  },
  {
   "cell_type": "markdown",
   "metadata": {},
   "source": [
    "## Table Content:\n",
    "- [Background](#Background)\n",
    "- [Assumptions](#Assumptions)\n",
    "- [Data Import & Cleaning](#Data-Import-&-Cleaning)\n",
    "- [Exploratory Data Analysis](#Exploratory-Data-Analysis)\n",
    "- [Data Visualization](#Data-Visualization)\n",
    "- [Conclusions & Recommendations](#Conclusions-&-Recommendations)"
   ]
  },
  {
   "cell_type": "markdown",
   "metadata": {},
   "source": [
    "## Background"
   ]
  },
  {
   "cell_type": "markdown",
   "metadata": {},
   "source": [
    "The SAT and ACT are standardized tests that many colleges and universities in the United States require for their admissions process. This score is used along with other materials such as grade point average (GPA) and essay responses to determine whether or not a potential student will be accepted to the university.\n",
    "\n",
    "The SAT has two sections of the test: Evidence-Based Reading and Writing and Math ([*source*](https://www.princetonreview.com/college/sat-sections)). The ACT has 4 sections: English, Mathematics, Reading, and Science, with an additional optional writing section ([*source*](https://www.act.org/content/act/en/products-and-services/the-act/scores/understanding-your-scores.html)). They have different score ranges, which you can read more about on their websites or additional outside sources:\n",
    "* [SAT](https://collegereadiness.collegeboard.org/sat)\n",
    "* [ACT](https://www.act.org/content/act/en.html)\n",
    "\n",
    "Standardized tests have long been a controversial topic for students, administrators, and legislators. Since the 1940's, an increasing number of colleges have been using scores from students' performances on tests like the SAT and the ACT as a measure for college readiness and aptitude ([*source*](https://www.minotdailynews.com/news/local-news/2017/04/a-brief-history-of-the-sat-and-act/)). Supporters of these tests argue that these scores can be used as an objective measure to determine college admittance. Opponents of these tests claim that these tests are not accurate measures of students potential or ability and serve as an inequitable barrier to entry. Lately, more and more schools are opting to drop the SAT/ACT requirement for their Fall 2021 applications ([*read more about this here*](https://www.cnn.com/2020/04/14/us/coronavirus-colleges-sat-act-test-trnd/index.html)).\n",
    "\n",
    "These measures have been used to measure the retention rate in students in university ([*source*](https://satsuite.collegeboard.org/media/pdf/national-sat-validity-study-overview-admissions-enrollment-leaders.pdf)). With student's tution fee as one of the university's source of revenue, higher retention rate in students means that university will have a more stable source of revenue. ([*source*](https://www.statista.com/statistics/240889/revenue-sources-of-us-higher-education-insitutions/)) \n",
    "\n",
    "Therefore, the target audience will be the finance administrators in the university to decide if the standardized test is the only way for predicting and reducing the number of dropouts."
   ]
  },
  {
   "cell_type": "markdown",
   "metadata": {},
   "source": [
    "## Assumptions"
   ]
  },
  {
   "cell_type": "markdown",
   "metadata": {},
   "source": [
    "The assumptions made for this analysis are the following:\n",
    "- Students have enough money to study for the entire university.\n",
    "- Students who dropout are due to only acdamic reasons.\n",
    "- Students always put in their best effort in each exam/tests.\n",
    "- Since [SAT and ACT test are highly correlated](https://www.hartlandschools.us/documents/curriculum/PLAN-PSAT-ACT-SAT%20Assessment%20Correlations%20-%20Washtenaw%20ISD%202015.pdf) , either SAT or ACT scores will produce the similar results. For this analysis, SAT scores will be used.\n",
    "- Dropout rates throughout the years are almost the same. ([*source*](https://educationdata.org/college-dropout-rates))"
   ]
  },
  {
   "cell_type": "markdown",
   "metadata": {},
   "source": [
    "## Coding Challenges"
   ]
  },
  {
   "cell_type": "markdown",
   "metadata": {},
   "source": [
    "### 1. Create a mean function"
   ]
  },
  {
   "cell_type": "code",
   "execution_count": 1,
   "metadata": {},
   "outputs": [],
   "source": [
    "def mean(samples):\n",
    "    return sum(samples) / len(samples)"
   ]
  },
  {
   "cell_type": "markdown",
   "metadata": {},
   "source": [
    "Test the mean function :"
   ]
  },
  {
   "cell_type": "code",
   "execution_count": 2,
   "metadata": {},
   "outputs": [
    {
     "data": {
      "text/plain": [
       "5.0"
      ]
     },
     "execution_count": 2,
     "metadata": {},
     "output_type": "execute_result"
    }
   ],
   "source": [
    "mean([1,2,3,4,5,6,7,8,9])"
   ]
  },
  {
   "cell_type": "markdown",
   "metadata": {},
   "source": [
    "### 2. Create a standard deviation"
   ]
  },
  {
   "cell_type": "markdown",
   "metadata": {},
   "source": [
    "-    The formula for standard deviation is below:\n",
    "\n",
    "    $$\\sigma = \\sqrt{\\frac{1}{n}\\sum_{i=1}^n(x_i - \\mu)^2}$$\n",
    "\n",
    "    Where $x_i$ represents each value in the dataset, $\\mu$ represents the mean of all values in the dataset and $n$ represents the number of values in the dataset."
   ]
  },
  {
   "cell_type": "code",
   "execution_count": 3,
   "metadata": {},
   "outputs": [],
   "source": [
    "def standard_dev(sample):\n",
    "    return ((sum([float(values-mean(sample))**2 for values in sample]))/len(sample))**0.5"
   ]
  },
  {
   "cell_type": "markdown",
   "metadata": {},
   "source": [
    "Test the standard deviation function :"
   ]
  },
  {
   "cell_type": "code",
   "execution_count": 4,
   "metadata": {},
   "outputs": [
    {
     "data": {
      "text/plain": [
       "2.8722813232690143"
      ]
     },
     "execution_count": 4,
     "metadata": {},
     "output_type": "execute_result"
    }
   ],
   "source": [
    "standard_dev([1,2,3,4,5,6,7,8,9,10])"
   ]
  },
  {
   "cell_type": "markdown",
   "metadata": {},
   "source": [
    "### 3. Data cleaning function :"
   ]
  },
  {
   "cell_type": "markdown",
   "metadata": {},
   "source": [
    "- A data cleaning function that takes in a string that is a number and a percent symbol (ex. '50%', '30.5%', etc.) and converts this to a float that is the decimal approximation of the percent."
   ]
  },
  {
   "cell_type": "code",
   "execution_count": 5,
   "metadata": {},
   "outputs": [],
   "source": [
    "def data_cleaning(value=\"\"):\n",
    "    return float(value.translate({ord('%'): None}))/100"
   ]
  },
  {
   "cell_type": "markdown",
   "metadata": {},
   "source": [
    "Test the data cleaning function : "
   ]
  },
  {
   "cell_type": "code",
   "execution_count": 6,
   "metadata": {},
   "outputs": [
    {
     "data": {
      "text/plain": [
       "0.5"
      ]
     },
     "execution_count": 6,
     "metadata": {},
     "output_type": "execute_result"
    }
   ],
   "source": [
    "data_cleaning(\"50%\")"
   ]
  },
  {
   "cell_type": "markdown",
   "metadata": {},
   "source": [
    "## Imports of libraries"
   ]
  },
  {
   "cell_type": "code",
   "execution_count": 7,
   "metadata": {},
   "outputs": [],
   "source": [
    "import pandas as pd \n",
    "\n",
    "import numpy as np\n",
    "\n",
    "import matplotlib.pyplot as plt\n",
    "\n",
    "import scipy as sp\n",
    "\n",
    "import seaborn as sns\n",
    "\n",
    "from functools import reduce\n",
    "\n",
    "import scipy.stats as sps "
   ]
  },
  {
   "cell_type": "markdown",
   "metadata": {},
   "source": [
    "## Data Import & Cleaning"
   ]
  },
  {
   "cell_type": "markdown",
   "metadata": {},
   "source": [
    "### Datasets\n",
    "\n",
    "There are 4 datasets are used. The below are the 4 datasets :\n",
    "\n",
    "* [`Dropout_rates`](https://educationdata.org/college-dropout-rates): Dropout rates by State\n",
    "* [`sat_2019.csv`](./data/sat_2019.csv): 2019 SAT Scores by State\n",
    "* [`sat_2020.csv`](./data/sat_2020.csv): 2020 SAT Scores by State\n",
    "* [`sat_2021.csv`](./data/sat_2021.csv): 2021 SAT Scores by State"
   ]
  },
  {
   "cell_type": "markdown",
   "metadata": {},
   "source": [
    "### 1st Dataset : Dropout Rates by State"
   ]
  },
  {
   "cell_type": "code",
   "execution_count": 8,
   "metadata": {
    "scrolled": true
   },
   "outputs": [
    {
     "data": {
      "text/html": [
       "<div>\n",
       "<style scoped>\n",
       "    .dataframe tbody tr th:only-of-type {\n",
       "        vertical-align: middle;\n",
       "    }\n",
       "\n",
       "    .dataframe tbody tr th {\n",
       "        vertical-align: top;\n",
       "    }\n",
       "\n",
       "    .dataframe thead th {\n",
       "        text-align: right;\n",
       "    }\n",
       "</style>\n",
       "<table border=\"1\" class=\"dataframe\">\n",
       "  <thead>\n",
       "    <tr style=\"text-align: right;\">\n",
       "      <th></th>\n",
       "      <th>state</th>\n",
       "      <th>drop_out_percent</th>\n",
       "    </tr>\n",
       "  </thead>\n",
       "  <tbody>\n",
       "    <tr>\n",
       "      <th>0</th>\n",
       "      <td>Alabama</td>\n",
       "      <td>24.8</td>\n",
       "    </tr>\n",
       "    <tr>\n",
       "      <th>1</th>\n",
       "      <td>Alaska</td>\n",
       "      <td>43.9</td>\n",
       "    </tr>\n",
       "    <tr>\n",
       "      <th>2</th>\n",
       "      <td>Arizona</td>\n",
       "      <td>44.1</td>\n",
       "    </tr>\n",
       "    <tr>\n",
       "      <th>3</th>\n",
       "      <td>Arkansas</td>\n",
       "      <td>39.7</td>\n",
       "    </tr>\n",
       "    <tr>\n",
       "      <th>4</th>\n",
       "      <td>California</td>\n",
       "      <td>30.2</td>\n",
       "    </tr>\n",
       "  </tbody>\n",
       "</table>\n",
       "</div>"
      ],
      "text/plain": [
       "        state  drop_out_percent\n",
       "0     Alabama              24.8\n",
       "1      Alaska              43.9\n",
       "2     Arizona              44.1\n",
       "3    Arkansas              39.7\n",
       "4  California              30.2"
      ]
     },
     "metadata": {},
     "output_type": "display_data"
    },
    {
     "data": {
      "text/html": [
       "<div>\n",
       "<style scoped>\n",
       "    .dataframe tbody tr th:only-of-type {\n",
       "        vertical-align: middle;\n",
       "    }\n",
       "\n",
       "    .dataframe tbody tr th {\n",
       "        vertical-align: top;\n",
       "    }\n",
       "\n",
       "    .dataframe thead th {\n",
       "        text-align: right;\n",
       "    }\n",
       "</style>\n",
       "<table border=\"1\" class=\"dataframe\">\n",
       "  <thead>\n",
       "    <tr style=\"text-align: right;\">\n",
       "      <th></th>\n",
       "      <th>state</th>\n",
       "      <th>drop_out_percent</th>\n",
       "    </tr>\n",
       "  </thead>\n",
       "  <tbody>\n",
       "    <tr>\n",
       "      <th>49</th>\n",
       "      <td>Wisconsin</td>\n",
       "      <td>25.8</td>\n",
       "    </tr>\n",
       "    <tr>\n",
       "      <th>50</th>\n",
       "      <td>Wyoming</td>\n",
       "      <td>28.2</td>\n",
       "    </tr>\n",
       "    <tr>\n",
       "      <th>51</th>\n",
       "      <td>U.S. Territories</td>\n",
       "      <td>72.7</td>\n",
       "    </tr>\n",
       "    <tr>\n",
       "      <th>52</th>\n",
       "      <td>Multi State</td>\n",
       "      <td>40.6</td>\n",
       "    </tr>\n",
       "    <tr>\n",
       "      <th>53</th>\n",
       "      <td>POIs</td>\n",
       "      <td>25.1</td>\n",
       "    </tr>\n",
       "  </tbody>\n",
       "</table>\n",
       "</div>"
      ],
      "text/plain": [
       "               state  drop_out_percent\n",
       "49         Wisconsin              25.8\n",
       "50           Wyoming              28.2\n",
       "51  U.S. Territories              72.7\n",
       "52       Multi State              40.6\n",
       "53              POIs              25.1"
      ]
     },
     "metadata": {},
     "output_type": "display_data"
    }
   ],
   "source": [
    "dropout_rates={\n",
    "    \"state\" :[\"Alabama\",\"Alaska\",\"Arizona\",\"Arkansas\",\"California\",\"Colorado\",\"Connecticut\",\"Delaware\",\"D.C\",\n",
    "               \"Florida\",\"Georgia\",\"Hawaii\",\"Idaho\",\"Illinois\",\"Indiana\",\"Iowa\",\"Kansas\",\"Kentucky\",\"Louisiana\",\n",
    "               \"Maine\",\"Maryland\",\"Massachusetts\",\"Michigan\",\"Minnesota\",\"Mississippi\",\"Missouri\",\"Montana\",\n",
    "               \"Nebraska\",\"Nevada\",\"New Hampshire\",\"New Jersey\",\"New Mexico\",\"New York\",\"North Carolina\",\n",
    "               \"North Dakota\",\"Ohio\",\"Oklahoma\",\"Oregon\",\"Pennsylvania\",\"Rhode Island\",\"South Carolina\",\n",
    "               \"South Dakota\",\"Tennessee\",\"Texas\",\"Utah\",\"Vermont\",\"Virginia\",\"Washington\",\"West Virginia\",\n",
    "               \"Wisconsin\",\"Wyoming\",\"U.S. Territories\",\"Multi State\",\"POIs\"\n",
    "              ],\n",
    "    \"drop_out_percent\" :[24.8,43.9,44.1,39.7,30.2,27.1,29.3,53.7,41.5,39.5,44.1,49.8,40.0,35.7,35.1,35.0,35.4,33.5,\n",
    "                         36.1,34.2,37.4,32.7,37.6,30.2,45.0,37.1,34.9,26.9,28.5,36.7,37.5,37.3,35.3,33.8,37.9,31.9,\n",
    "                         42.4,24.5,34.9,32.5,38.0,37.3,37.3,43.6,34.4,31.2,30.8,22.7,36.6,25.8,28.2,72.7,40.6,25.1\n",
    "                        ]\n",
    "}\n",
    "\n",
    "#convert from dict to data frame\n",
    "dropout_rates=pd.DataFrame.from_dict(dropout_rates)\n",
    "\n",
    "#Display top and bottom 5 rows\n",
    "display(dropout_rates.head())\n",
    "display(dropout_rates.tail())"
   ]
  },
  {
   "cell_type": "code",
   "execution_count": 9,
   "metadata": {},
   "outputs": [
    {
     "data": {
      "text/html": [
       "<div>\n",
       "<style scoped>\n",
       "    .dataframe tbody tr th:only-of-type {\n",
       "        vertical-align: middle;\n",
       "    }\n",
       "\n",
       "    .dataframe tbody tr th {\n",
       "        vertical-align: top;\n",
       "    }\n",
       "\n",
       "    .dataframe thead th {\n",
       "        text-align: right;\n",
       "    }\n",
       "</style>\n",
       "<table border=\"1\" class=\"dataframe\">\n",
       "  <thead>\n",
       "    <tr style=\"text-align: right;\">\n",
       "      <th></th>\n",
       "      <th>state</th>\n",
       "      <th>dropout_rate</th>\n",
       "    </tr>\n",
       "  </thead>\n",
       "  <tbody>\n",
       "    <tr>\n",
       "      <th>0</th>\n",
       "      <td>Alabama</td>\n",
       "      <td>0.248</td>\n",
       "    </tr>\n",
       "    <tr>\n",
       "      <th>1</th>\n",
       "      <td>Alaska</td>\n",
       "      <td>0.439</td>\n",
       "    </tr>\n",
       "    <tr>\n",
       "      <th>2</th>\n",
       "      <td>Arizona</td>\n",
       "      <td>0.441</td>\n",
       "    </tr>\n",
       "    <tr>\n",
       "      <th>3</th>\n",
       "      <td>Arkansas</td>\n",
       "      <td>0.397</td>\n",
       "    </tr>\n",
       "    <tr>\n",
       "      <th>4</th>\n",
       "      <td>California</td>\n",
       "      <td>0.302</td>\n",
       "    </tr>\n",
       "  </tbody>\n",
       "</table>\n",
       "</div>"
      ],
      "text/plain": [
       "        state  dropout_rate\n",
       "0     Alabama         0.248\n",
       "1      Alaska         0.439\n",
       "2     Arizona         0.441\n",
       "3    Arkansas         0.397\n",
       "4  California         0.302"
      ]
     },
     "metadata": {},
     "output_type": "display_data"
    }
   ],
   "source": [
    "#Convert dropout % to decimal and put it in a new column\n",
    "dropout_rates[\"dropout_rate\"]=dropout_rates[\"drop_out_percent\"]/100\n",
    "\n",
    "#Remove dropout percent\n",
    "dropout_rates=dropout_rates.drop(\"drop_out_percent\",axis=1)\n",
    "\n",
    "#Check results\n",
    "display(dropout_rates.head())"
   ]
  },
  {
   "cell_type": "markdown",
   "metadata": {},
   "source": [
    "### 2nd dataset :  2019 SAT Scores by State"
   ]
  },
  {
   "cell_type": "code",
   "execution_count": 10,
   "metadata": {},
   "outputs": [
    {
     "data": {
      "text/html": [
       "<div>\n",
       "<style scoped>\n",
       "    .dataframe tbody tr th:only-of-type {\n",
       "        vertical-align: middle;\n",
       "    }\n",
       "\n",
       "    .dataframe tbody tr th {\n",
       "        vertical-align: top;\n",
       "    }\n",
       "\n",
       "    .dataframe thead th {\n",
       "        text-align: right;\n",
       "    }\n",
       "</style>\n",
       "<table border=\"1\" class=\"dataframe\">\n",
       "  <thead>\n",
       "    <tr style=\"text-align: right;\">\n",
       "      <th></th>\n",
       "      <th>State</th>\n",
       "      <th>Participation Rate</th>\n",
       "      <th>EBRW</th>\n",
       "      <th>Math</th>\n",
       "      <th>Total</th>\n",
       "    </tr>\n",
       "  </thead>\n",
       "  <tbody>\n",
       "    <tr>\n",
       "      <th>0</th>\n",
       "      <td>Alabama</td>\n",
       "      <td>7%</td>\n",
       "      <td>583</td>\n",
       "      <td>560</td>\n",
       "      <td>1143</td>\n",
       "    </tr>\n",
       "    <tr>\n",
       "      <th>1</th>\n",
       "      <td>Alaska</td>\n",
       "      <td>41%</td>\n",
       "      <td>556</td>\n",
       "      <td>541</td>\n",
       "      <td>1097</td>\n",
       "    </tr>\n",
       "    <tr>\n",
       "      <th>2</th>\n",
       "      <td>Arizona</td>\n",
       "      <td>31%</td>\n",
       "      <td>569</td>\n",
       "      <td>565</td>\n",
       "      <td>1134</td>\n",
       "    </tr>\n",
       "    <tr>\n",
       "      <th>3</th>\n",
       "      <td>Arkansas</td>\n",
       "      <td>6%</td>\n",
       "      <td>582</td>\n",
       "      <td>559</td>\n",
       "      <td>1141</td>\n",
       "    </tr>\n",
       "    <tr>\n",
       "      <th>4</th>\n",
       "      <td>California</td>\n",
       "      <td>63%</td>\n",
       "      <td>534</td>\n",
       "      <td>531</td>\n",
       "      <td>1065</td>\n",
       "    </tr>\n",
       "  </tbody>\n",
       "</table>\n",
       "</div>"
      ],
      "text/plain": [
       "        State Participation Rate  EBRW  Math  Total\n",
       "0     Alabama                 7%   583   560   1143\n",
       "1      Alaska                41%   556   541   1097\n",
       "2     Arizona                31%   569   565   1134\n",
       "3    Arkansas                 6%   582   559   1141\n",
       "4  California                63%   534   531   1065"
      ]
     },
     "metadata": {},
     "output_type": "display_data"
    },
    {
     "data": {
      "text/html": [
       "<div>\n",
       "<style scoped>\n",
       "    .dataframe tbody tr th:only-of-type {\n",
       "        vertical-align: middle;\n",
       "    }\n",
       "\n",
       "    .dataframe tbody tr th {\n",
       "        vertical-align: top;\n",
       "    }\n",
       "\n",
       "    .dataframe thead th {\n",
       "        text-align: right;\n",
       "    }\n",
       "</style>\n",
       "<table border=\"1\" class=\"dataframe\">\n",
       "  <thead>\n",
       "    <tr style=\"text-align: right;\">\n",
       "      <th></th>\n",
       "      <th>State</th>\n",
       "      <th>Participation Rate</th>\n",
       "      <th>EBRW</th>\n",
       "      <th>Math</th>\n",
       "      <th>Total</th>\n",
       "    </tr>\n",
       "  </thead>\n",
       "  <tbody>\n",
       "    <tr>\n",
       "      <th>48</th>\n",
       "      <td>Virginia</td>\n",
       "      <td>68%</td>\n",
       "      <td>567</td>\n",
       "      <td>551</td>\n",
       "      <td>1119</td>\n",
       "    </tr>\n",
       "    <tr>\n",
       "      <th>49</th>\n",
       "      <td>Washington</td>\n",
       "      <td>70%</td>\n",
       "      <td>539</td>\n",
       "      <td>535</td>\n",
       "      <td>1074</td>\n",
       "    </tr>\n",
       "    <tr>\n",
       "      <th>50</th>\n",
       "      <td>West Virginia</td>\n",
       "      <td>99%</td>\n",
       "      <td>483</td>\n",
       "      <td>460</td>\n",
       "      <td>943</td>\n",
       "    </tr>\n",
       "    <tr>\n",
       "      <th>51</th>\n",
       "      <td>Wisconsin</td>\n",
       "      <td>3%</td>\n",
       "      <td>635</td>\n",
       "      <td>648</td>\n",
       "      <td>1283</td>\n",
       "    </tr>\n",
       "    <tr>\n",
       "      <th>52</th>\n",
       "      <td>Wyoming</td>\n",
       "      <td>3%</td>\n",
       "      <td>623</td>\n",
       "      <td>615</td>\n",
       "      <td>1238</td>\n",
       "    </tr>\n",
       "  </tbody>\n",
       "</table>\n",
       "</div>"
      ],
      "text/plain": [
       "            State Participation Rate  EBRW  Math  Total\n",
       "48       Virginia                68%   567   551   1119\n",
       "49     Washington                70%   539   535   1074\n",
       "50  West Virginia                99%   483   460    943\n",
       "51      Wisconsin                 3%   635   648   1283\n",
       "52        Wyoming                 3%   623   615   1238"
      ]
     },
     "metadata": {},
     "output_type": "display_data"
    }
   ],
   "source": [
    "#Import data\n",
    "df_sat19=pd.read_csv(\"00-data/sat_2019.csv\")\n",
    "\n",
    "#Display top and bottom 5 rows\n",
    "display(df_sat19.head())\n",
    "display(df_sat19.tail())"
   ]
  },
  {
   "cell_type": "code",
   "execution_count": 11,
   "metadata": {},
   "outputs": [
    {
     "data": {
      "text/plain": [
       "Index(['State', 'Participation Rate', 'EBRW', 'Math', 'Total'], dtype='object')"
      ]
     },
     "metadata": {},
     "output_type": "display_data"
    }
   ],
   "source": [
    "#Check for missing columns not shown above\n",
    "display(df_sat19.columns)"
   ]
  },
  {
   "cell_type": "code",
   "execution_count": 12,
   "metadata": {},
   "outputs": [
    {
     "name": "stdout",
     "output_type": "stream",
     "text": [
      "<class 'pandas.core.frame.DataFrame'>\n",
      "RangeIndex: 53 entries, 0 to 52\n",
      "Data columns (total 5 columns):\n",
      " #   Column              Non-Null Count  Dtype \n",
      "---  ------              --------------  ----- \n",
      " 0   State               53 non-null     object\n",
      " 1   Participation Rate  53 non-null     object\n",
      " 2   EBRW                53 non-null     int64 \n",
      " 3   Math                53 non-null     int64 \n",
      " 4   Total               53 non-null     int64 \n",
      "dtypes: int64(3), object(2)\n",
      "memory usage: 2.2+ KB\n"
     ]
    }
   ],
   "source": [
    "#Check for types and missing data in columns\n",
    "df_sat19.info()"
   ]
  },
  {
   "cell_type": "code",
   "execution_count": 13,
   "metadata": {},
   "outputs": [
    {
     "data": {
      "text/plain": [
       "0"
      ]
     },
     "execution_count": 13,
     "metadata": {},
     "output_type": "execute_result"
    }
   ],
   "source": [
    "#Check for duplicates\n",
    "df_sat19.duplicated().sum()"
   ]
  },
  {
   "cell_type": "code",
   "execution_count": 14,
   "metadata": {},
   "outputs": [
    {
     "data": {
      "text/plain": [
       "array(['100%', '18%', '19%', '2%', '20%', '22%', '3%', '31%', '4%', '41%',\n",
       "       '5%', '51%', '54%', '6%', '63%', '66%', '68%', '7%', '70%', '71%',\n",
       "       '79%', '81%', '82%', '9%', '94%', '95%', '99%', '—'], dtype=object)"
      ]
     },
     "execution_count": 14,
     "metadata": {},
     "output_type": "execute_result"
    }
   ],
   "source": [
    "#Check for unique values in participation rate column\n",
    "np.unique(df_sat19[\"Participation Rate\"])"
   ]
  },
  {
   "cell_type": "code",
   "execution_count": 15,
   "metadata": {},
   "outputs": [
    {
     "name": "stdout",
     "output_type": "stream",
     "text": [
      "['100%' '18%' '19%' '2%' '20%' '22%' '3%' '31%' '4%' '41%' '5%' '51%'\n",
      " '54%' '6%' '63%' '66%' '68%' '7%' '70%' '71%' '79%' '81%' '82%' '9%'\n",
      " '94%' '95%' '99%']\n",
      "<class 'pandas.core.frame.DataFrame'>\n",
      "Int64Index: 51 entries, 0 to 52\n",
      "Data columns (total 5 columns):\n",
      " #   Column              Non-Null Count  Dtype \n",
      "---  ------              --------------  ----- \n",
      " 0   State               51 non-null     object\n",
      " 1   Participation Rate  51 non-null     object\n",
      " 2   EBRW                51 non-null     int64 \n",
      " 3   Math                51 non-null     int64 \n",
      " 4   Total               51 non-null     int64 \n",
      "dtypes: int64(3), object(2)\n",
      "memory usage: 2.4+ KB\n",
      "None\n"
     ]
    }
   ],
   "source": [
    "#Drop \"-\" in participation rate\n",
    "df_sat19 = df_sat19[df_sat19[\"Participation Rate\"].str.contains(\"—\") == False]\n",
    "\n",
    "#Check results\n",
    "print(np.unique(df_sat19[\"Participation Rate\"]))\n",
    "\n",
    "#Check data type and non-null count\n",
    "print(df_sat19.info())"
   ]
  },
  {
   "cell_type": "code",
   "execution_count": 16,
   "metadata": {},
   "outputs": [
    {
     "data": {
      "text/html": [
       "<div>\n",
       "<style scoped>\n",
       "    .dataframe tbody tr th:only-of-type {\n",
       "        vertical-align: middle;\n",
       "    }\n",
       "\n",
       "    .dataframe tbody tr th {\n",
       "        vertical-align: top;\n",
       "    }\n",
       "\n",
       "    .dataframe thead th {\n",
       "        text-align: right;\n",
       "    }\n",
       "</style>\n",
       "<table border=\"1\" class=\"dataframe\">\n",
       "  <thead>\n",
       "    <tr style=\"text-align: right;\">\n",
       "      <th></th>\n",
       "      <th>State</th>\n",
       "      <th>Participation Rate</th>\n",
       "      <th>EBRW</th>\n",
       "      <th>Math</th>\n",
       "      <th>Total</th>\n",
       "    </tr>\n",
       "  </thead>\n",
       "  <tbody>\n",
       "    <tr>\n",
       "      <th>0</th>\n",
       "      <td>Alabama</td>\n",
       "      <td>0.07</td>\n",
       "      <td>583</td>\n",
       "      <td>560</td>\n",
       "      <td>1143</td>\n",
       "    </tr>\n",
       "    <tr>\n",
       "      <th>1</th>\n",
       "      <td>Alaska</td>\n",
       "      <td>0.41</td>\n",
       "      <td>556</td>\n",
       "      <td>541</td>\n",
       "      <td>1097</td>\n",
       "    </tr>\n",
       "    <tr>\n",
       "      <th>2</th>\n",
       "      <td>Arizona</td>\n",
       "      <td>0.31</td>\n",
       "      <td>569</td>\n",
       "      <td>565</td>\n",
       "      <td>1134</td>\n",
       "    </tr>\n",
       "  </tbody>\n",
       "</table>\n",
       "</div>"
      ],
      "text/plain": [
       "     State  Participation Rate  EBRW  Math  Total\n",
       "0  Alabama                0.07   583   560   1143\n",
       "1   Alaska                0.41   556   541   1097\n",
       "2  Arizona                0.31   569   565   1134"
      ]
     },
     "metadata": {},
     "output_type": "display_data"
    }
   ],
   "source": [
    "#Convert % to decimal place.\n",
    "df_sat19[\"Participation Rate\"]=list(map(data_cleaning,df_sat19[\"Participation Rate\"]))\n",
    "\n",
    "#Check results\n",
    "display(df_sat19.head(3))"
   ]
  },
  {
   "cell_type": "code",
   "execution_count": 17,
   "metadata": {},
   "outputs": [
    {
     "data": {
      "text/plain": [
       "39"
      ]
     },
     "execution_count": 17,
     "metadata": {},
     "output_type": "execute_result"
    }
   ],
   "source": [
    "#Check total column\n",
    "\n",
    "#Create a new column to calculate the difference between total\n",
    "df_sat19[\"difference\"] = df_sat19[\"Total\"] - (df_sat19[\"EBRW\"] + df_sat19[\"Math\"])\n",
    "\n",
    "#Check for difference and sum it up\n",
    "(df_sat19[\"difference\"]==0).sum()"
   ]
  },
  {
   "cell_type": "code",
   "execution_count": 18,
   "metadata": {},
   "outputs": [
    {
     "data": {
      "text/plain": [
       "12"
      ]
     },
     "metadata": {},
     "output_type": "display_data"
    },
    {
     "data": {
      "text/html": [
       "<div>\n",
       "<style scoped>\n",
       "    .dataframe tbody tr th:only-of-type {\n",
       "        vertical-align: middle;\n",
       "    }\n",
       "\n",
       "    .dataframe tbody tr th {\n",
       "        vertical-align: top;\n",
       "    }\n",
       "\n",
       "    .dataframe thead th {\n",
       "        text-align: right;\n",
       "    }\n",
       "</style>\n",
       "<table border=\"1\" class=\"dataframe\">\n",
       "  <thead>\n",
       "    <tr style=\"text-align: right;\">\n",
       "      <th></th>\n",
       "      <th>State</th>\n",
       "      <th>Participation Rate</th>\n",
       "      <th>EBRW</th>\n",
       "      <th>Math</th>\n",
       "      <th>Total</th>\n",
       "      <th>difference</th>\n",
       "    </tr>\n",
       "  </thead>\n",
       "  <tbody>\n",
       "    <tr>\n",
       "      <th>6</th>\n",
       "      <td>Connecticut</td>\n",
       "      <td>1.00</td>\n",
       "      <td>529</td>\n",
       "      <td>516</td>\n",
       "      <td>1046</td>\n",
       "      <td>1</td>\n",
       "    </tr>\n",
       "    <tr>\n",
       "      <th>10</th>\n",
       "      <td>Georgia</td>\n",
       "      <td>0.71</td>\n",
       "      <td>538</td>\n",
       "      <td>519</td>\n",
       "      <td>1058</td>\n",
       "      <td>1</td>\n",
       "    </tr>\n",
       "    <tr>\n",
       "      <th>18</th>\n",
       "      <td>Louisiana</td>\n",
       "      <td>0.05</td>\n",
       "      <td>610</td>\n",
       "      <td>591</td>\n",
       "      <td>1200</td>\n",
       "      <td>-1</td>\n",
       "    </tr>\n",
       "    <tr>\n",
       "      <th>19</th>\n",
       "      <td>Maine</td>\n",
       "      <td>0.99</td>\n",
       "      <td>512</td>\n",
       "      <td>502</td>\n",
       "      <td>1013</td>\n",
       "      <td>-1</td>\n",
       "    </tr>\n",
       "    <tr>\n",
       "      <th>24</th>\n",
       "      <td>Mississippi</td>\n",
       "      <td>0.03</td>\n",
       "      <td>628</td>\n",
       "      <td>608</td>\n",
       "      <td>1237</td>\n",
       "      <td>1</td>\n",
       "    </tr>\n",
       "    <tr>\n",
       "      <th>25</th>\n",
       "      <td>Missouri</td>\n",
       "      <td>0.04</td>\n",
       "      <td>622</td>\n",
       "      <td>615</td>\n",
       "      <td>1236</td>\n",
       "      <td>-1</td>\n",
       "    </tr>\n",
       "    <tr>\n",
       "      <th>27</th>\n",
       "      <td>Nebraska</td>\n",
       "      <td>0.03</td>\n",
       "      <td>628</td>\n",
       "      <td>631</td>\n",
       "      <td>1260</td>\n",
       "      <td>1</td>\n",
       "    </tr>\n",
       "    <tr>\n",
       "      <th>30</th>\n",
       "      <td>New Jersey</td>\n",
       "      <td>0.82</td>\n",
       "      <td>544</td>\n",
       "      <td>545</td>\n",
       "      <td>1090</td>\n",
       "      <td>1</td>\n",
       "    </tr>\n",
       "    <tr>\n",
       "      <th>35</th>\n",
       "      <td>Ohio</td>\n",
       "      <td>0.19</td>\n",
       "      <td>550</td>\n",
       "      <td>548</td>\n",
       "      <td>1097</td>\n",
       "      <td>-1</td>\n",
       "    </tr>\n",
       "    <tr>\n",
       "      <th>36</th>\n",
       "      <td>Oklahoma</td>\n",
       "      <td>0.22</td>\n",
       "      <td>490</td>\n",
       "      <td>472</td>\n",
       "      <td>963</td>\n",
       "      <td>1</td>\n",
       "    </tr>\n",
       "    <tr>\n",
       "      <th>45</th>\n",
       "      <td>Utah</td>\n",
       "      <td>0.04</td>\n",
       "      <td>614</td>\n",
       "      <td>615</td>\n",
       "      <td>1230</td>\n",
       "      <td>1</td>\n",
       "    </tr>\n",
       "    <tr>\n",
       "      <th>48</th>\n",
       "      <td>Virginia</td>\n",
       "      <td>0.68</td>\n",
       "      <td>567</td>\n",
       "      <td>551</td>\n",
       "      <td>1119</td>\n",
       "      <td>1</td>\n",
       "    </tr>\n",
       "  </tbody>\n",
       "</table>\n",
       "</div>"
      ],
      "text/plain": [
       "          State  Participation Rate  EBRW  Math  Total  difference\n",
       "6   Connecticut                1.00   529   516   1046           1\n",
       "10      Georgia                0.71   538   519   1058           1\n",
       "18    Louisiana                0.05   610   591   1200          -1\n",
       "19        Maine                0.99   512   502   1013          -1\n",
       "24  Mississippi                0.03   628   608   1237           1\n",
       "25     Missouri                0.04   622   615   1236          -1\n",
       "27     Nebraska                0.03   628   631   1260           1\n",
       "30   New Jersey                0.82   544   545   1090           1\n",
       "35         Ohio                0.19   550   548   1097          -1\n",
       "36     Oklahoma                0.22   490   472    963           1\n",
       "45         Utah                0.04   614   615   1230           1\n",
       "48     Virginia                0.68   567   551   1119           1"
      ]
     },
     "metadata": {},
     "output_type": "display_data"
    }
   ],
   "source": [
    "#Check rows that is not 0 in the difference column\n",
    "\n",
    "#Check the sum of difference column that is not equal to 0\n",
    "display((df_sat19[\"difference\"]!=0).sum())\n",
    "\n",
    "#Display the columns\n",
    "display(df_sat19.loc[df_sat19[\"difference\"]!=0])"
   ]
  },
  {
   "cell_type": "markdown",
   "metadata": {},
   "source": [
    "The difference results will be ignored as it is insignificance to affect our results."
   ]
  },
  {
   "cell_type": "code",
   "execution_count": 19,
   "metadata": {},
   "outputs": [
    {
     "data": {
      "text/plain": [
       "count      51.000000\n",
       "mean     1113.078431\n",
       "std        97.197910\n",
       "min       943.000000\n",
       "25%      1038.000000\n",
       "50%      1097.000000\n",
       "75%      1210.000000\n",
       "max      1284.000000\n",
       "Name: Total, dtype: float64"
      ]
     },
     "metadata": {},
     "output_type": "display_data"
    }
   ],
   "source": [
    "#Print describe to see the stats in the total\n",
    "display(df_sat19[\"Total\"].describe())"
   ]
  },
  {
   "cell_type": "code",
   "execution_count": 20,
   "metadata": {},
   "outputs": [
    {
     "data": {
      "text/html": [
       "<div>\n",
       "<style scoped>\n",
       "    .dataframe tbody tr th:only-of-type {\n",
       "        vertical-align: middle;\n",
       "    }\n",
       "\n",
       "    .dataframe tbody tr th {\n",
       "        vertical-align: top;\n",
       "    }\n",
       "\n",
       "    .dataframe thead th {\n",
       "        text-align: right;\n",
       "    }\n",
       "</style>\n",
       "<table border=\"1\" class=\"dataframe\">\n",
       "  <thead>\n",
       "    <tr style=\"text-align: right;\">\n",
       "      <th></th>\n",
       "      <th>State</th>\n",
       "      <th>Participation Rate</th>\n",
       "      <th>Total</th>\n",
       "    </tr>\n",
       "  </thead>\n",
       "  <tbody>\n",
       "    <tr>\n",
       "      <th>0</th>\n",
       "      <td>Alabama</td>\n",
       "      <td>0.07</td>\n",
       "      <td>1143</td>\n",
       "    </tr>\n",
       "    <tr>\n",
       "      <th>1</th>\n",
       "      <td>Alaska</td>\n",
       "      <td>0.41</td>\n",
       "      <td>1097</td>\n",
       "    </tr>\n",
       "  </tbody>\n",
       "</table>\n",
       "</div>"
      ],
      "text/plain": [
       "     State  Participation Rate  Total\n",
       "0  Alabama                0.07   1143\n",
       "1   Alaska                0.41   1097"
      ]
     },
     "metadata": {},
     "output_type": "display_data"
    },
    {
     "data": {
      "text/html": [
       "<div>\n",
       "<style scoped>\n",
       "    .dataframe tbody tr th:only-of-type {\n",
       "        vertical-align: middle;\n",
       "    }\n",
       "\n",
       "    .dataframe tbody tr th {\n",
       "        vertical-align: top;\n",
       "    }\n",
       "\n",
       "    .dataframe thead th {\n",
       "        text-align: right;\n",
       "    }\n",
       "</style>\n",
       "<table border=\"1\" class=\"dataframe\">\n",
       "  <thead>\n",
       "    <tr style=\"text-align: right;\">\n",
       "      <th></th>\n",
       "      <th>State</th>\n",
       "      <th>Participation Rate</th>\n",
       "      <th>Total</th>\n",
       "    </tr>\n",
       "  </thead>\n",
       "  <tbody>\n",
       "    <tr>\n",
       "      <th>51</th>\n",
       "      <td>Wisconsin</td>\n",
       "      <td>0.03</td>\n",
       "      <td>1283</td>\n",
       "    </tr>\n",
       "    <tr>\n",
       "      <th>52</th>\n",
       "      <td>Wyoming</td>\n",
       "      <td>0.03</td>\n",
       "      <td>1238</td>\n",
       "    </tr>\n",
       "  </tbody>\n",
       "</table>\n",
       "</div>"
      ],
      "text/plain": [
       "        State  Participation Rate  Total\n",
       "51  Wisconsin                0.03   1283\n",
       "52    Wyoming                0.03   1238"
      ]
     },
     "metadata": {},
     "output_type": "display_data"
    }
   ],
   "source": [
    "#Hide unwanted columns\n",
    "#Create variable to contain the display column\n",
    "df_sat19_subset=df_sat19[[\"State\",\"Participation Rate\",\"Total\"]]\n",
    "\n",
    "#Check results by printing the first and last 2 rows\n",
    "display(df_sat19_subset.head(2))\n",
    "display(df_sat19_subset.tail(2))"
   ]
  },
  {
   "cell_type": "code",
   "execution_count": 21,
   "metadata": {},
   "outputs": [
    {
     "data": {
      "text/html": [
       "<div>\n",
       "<style scoped>\n",
       "    .dataframe tbody tr th:only-of-type {\n",
       "        vertical-align: middle;\n",
       "    }\n",
       "\n",
       "    .dataframe tbody tr th {\n",
       "        vertical-align: top;\n",
       "    }\n",
       "\n",
       "    .dataframe thead th {\n",
       "        text-align: right;\n",
       "    }\n",
       "</style>\n",
       "<table border=\"1\" class=\"dataframe\">\n",
       "  <thead>\n",
       "    <tr style=\"text-align: right;\">\n",
       "      <th></th>\n",
       "      <th>state</th>\n",
       "      <th>p_rate_19</th>\n",
       "      <th>total_19</th>\n",
       "    </tr>\n",
       "  </thead>\n",
       "  <tbody>\n",
       "    <tr>\n",
       "      <th>0</th>\n",
       "      <td>Alabama</td>\n",
       "      <td>0.07</td>\n",
       "      <td>1143</td>\n",
       "    </tr>\n",
       "    <tr>\n",
       "      <th>1</th>\n",
       "      <td>Alaska</td>\n",
       "      <td>0.41</td>\n",
       "      <td>1097</td>\n",
       "    </tr>\n",
       "  </tbody>\n",
       "</table>\n",
       "</div>"
      ],
      "text/plain": [
       "     state  p_rate_19  total_19\n",
       "0  Alabama       0.07      1143\n",
       "1   Alaska       0.41      1097"
      ]
     },
     "metadata": {},
     "output_type": "display_data"
    },
    {
     "data": {
      "text/html": [
       "<div>\n",
       "<style scoped>\n",
       "    .dataframe tbody tr th:only-of-type {\n",
       "        vertical-align: middle;\n",
       "    }\n",
       "\n",
       "    .dataframe tbody tr th {\n",
       "        vertical-align: top;\n",
       "    }\n",
       "\n",
       "    .dataframe thead th {\n",
       "        text-align: right;\n",
       "    }\n",
       "</style>\n",
       "<table border=\"1\" class=\"dataframe\">\n",
       "  <thead>\n",
       "    <tr style=\"text-align: right;\">\n",
       "      <th></th>\n",
       "      <th>state</th>\n",
       "      <th>p_rate_19</th>\n",
       "      <th>total_19</th>\n",
       "    </tr>\n",
       "  </thead>\n",
       "  <tbody>\n",
       "    <tr>\n",
       "      <th>51</th>\n",
       "      <td>Wisconsin</td>\n",
       "      <td>0.03</td>\n",
       "      <td>1283</td>\n",
       "    </tr>\n",
       "    <tr>\n",
       "      <th>52</th>\n",
       "      <td>Wyoming</td>\n",
       "      <td>0.03</td>\n",
       "      <td>1238</td>\n",
       "    </tr>\n",
       "  </tbody>\n",
       "</table>\n",
       "</div>"
      ],
      "text/plain": [
       "        state  p_rate_19  total_19\n",
       "51  Wisconsin       0.03      1283\n",
       "52    Wyoming       0.03      1238"
      ]
     },
     "metadata": {},
     "output_type": "display_data"
    }
   ],
   "source": [
    "#Rename columns\n",
    "\n",
    "#Make the columns names all in lower case\n",
    "df_sat19_subset.columns=df_sat19_subset.columns.str.lower()\n",
    "\n",
    "#Create a copy\n",
    "df_sat19_subset_copy=df_sat19_subset.copy()\n",
    "\n",
    "#Rename the columns accordingly\n",
    "df19_sub=df_sat19_subset_copy.rename(columns={\"participation rate\": \"p_rate_19\",\n",
    "                                              \"total\":\"total_19\"})\n",
    "#Display the results\n",
    "display(df19_sub.head(2))\n",
    "display(df19_sub.tail(2))"
   ]
  },
  {
   "cell_type": "markdown",
   "metadata": {},
   "source": [
    "### 3rd Dataset : 2020 SAT Scores by State"
   ]
  },
  {
   "cell_type": "code",
   "execution_count": 22,
   "metadata": {},
   "outputs": [
    {
     "data": {
      "text/html": [
       "<div>\n",
       "<style scoped>\n",
       "    .dataframe tbody tr th:only-of-type {\n",
       "        vertical-align: middle;\n",
       "    }\n",
       "\n",
       "    .dataframe tbody tr th {\n",
       "        vertical-align: top;\n",
       "    }\n",
       "\n",
       "    .dataframe thead th {\n",
       "        text-align: right;\n",
       "    }\n",
       "</style>\n",
       "<table border=\"1\" class=\"dataframe\">\n",
       "  <thead>\n",
       "    <tr style=\"text-align: right;\">\n",
       "      <th></th>\n",
       "      <th>State</th>\n",
       "      <th>Particpation</th>\n",
       "      <th>Evidence-Based Reading and Writing</th>\n",
       "      <th>Math</th>\n",
       "      <th>Total</th>\n",
       "    </tr>\n",
       "  </thead>\n",
       "  <tbody>\n",
       "    <tr>\n",
       "      <th>0</th>\n",
       "      <td>National</td>\n",
       "      <td>60.470016</td>\n",
       "      <td>528</td>\n",
       "      <td>523</td>\n",
       "      <td>1051</td>\n",
       "    </tr>\n",
       "    <tr>\n",
       "      <th>1</th>\n",
       "      <td>Alabama</td>\n",
       "      <td>7.000000</td>\n",
       "      <td>576</td>\n",
       "      <td>551</td>\n",
       "      <td>1127</td>\n",
       "    </tr>\n",
       "    <tr>\n",
       "      <th>2</th>\n",
       "      <td>Alaska</td>\n",
       "      <td>37.000000</td>\n",
       "      <td>555</td>\n",
       "      <td>543</td>\n",
       "      <td>1098</td>\n",
       "    </tr>\n",
       "    <tr>\n",
       "      <th>3</th>\n",
       "      <td>Arizona</td>\n",
       "      <td>29.000000</td>\n",
       "      <td>571</td>\n",
       "      <td>568</td>\n",
       "      <td>1139</td>\n",
       "    </tr>\n",
       "    <tr>\n",
       "      <th>4</th>\n",
       "      <td>Arkansas</td>\n",
       "      <td>4.000000</td>\n",
       "      <td>590</td>\n",
       "      <td>567</td>\n",
       "      <td>1157</td>\n",
       "    </tr>\n",
       "  </tbody>\n",
       "</table>\n",
       "</div>"
      ],
      "text/plain": [
       "       State  Particpation  Evidence-Based Reading and Writing  Math  Total\n",
       "0   National     60.470016                                 528   523   1051\n",
       "1   Alabama       7.000000                                 576   551   1127\n",
       "2    Alaska      37.000000                                 555   543   1098\n",
       "3   Arizona      29.000000                                 571   568   1139\n",
       "4  Arkansas       4.000000                                 590   567   1157"
      ]
     },
     "metadata": {},
     "output_type": "display_data"
    },
    {
     "data": {
      "text/html": [
       "<div>\n",
       "<style scoped>\n",
       "    .dataframe tbody tr th:only-of-type {\n",
       "        vertical-align: middle;\n",
       "    }\n",
       "\n",
       "    .dataframe tbody tr th {\n",
       "        vertical-align: top;\n",
       "    }\n",
       "\n",
       "    .dataframe thead th {\n",
       "        text-align: right;\n",
       "    }\n",
       "</style>\n",
       "<table border=\"1\" class=\"dataframe\">\n",
       "  <thead>\n",
       "    <tr style=\"text-align: right;\">\n",
       "      <th></th>\n",
       "      <th>State</th>\n",
       "      <th>Particpation</th>\n",
       "      <th>Evidence-Based Reading and Writing</th>\n",
       "      <th>Math</th>\n",
       "      <th>Total</th>\n",
       "    </tr>\n",
       "  </thead>\n",
       "  <tbody>\n",
       "    <tr>\n",
       "      <th>47</th>\n",
       "      <td>Virginia</td>\n",
       "      <td>65.0</td>\n",
       "      <td>567</td>\n",
       "      <td>549</td>\n",
       "      <td>1116</td>\n",
       "    </tr>\n",
       "    <tr>\n",
       "      <th>48</th>\n",
       "      <td>Washington</td>\n",
       "      <td>69.0</td>\n",
       "      <td>539</td>\n",
       "      <td>534</td>\n",
       "      <td>1073</td>\n",
       "    </tr>\n",
       "    <tr>\n",
       "      <th>49</th>\n",
       "      <td>West Virginia</td>\n",
       "      <td>98.0</td>\n",
       "      <td>480</td>\n",
       "      <td>456</td>\n",
       "      <td>936</td>\n",
       "    </tr>\n",
       "    <tr>\n",
       "      <th>50</th>\n",
       "      <td>Wisconsin</td>\n",
       "      <td>3.0</td>\n",
       "      <td>615</td>\n",
       "      <td>628</td>\n",
       "      <td>1243</td>\n",
       "    </tr>\n",
       "    <tr>\n",
       "      <th>51</th>\n",
       "      <td>Wyoming</td>\n",
       "      <td>2.0</td>\n",
       "      <td>614</td>\n",
       "      <td>606</td>\n",
       "      <td>1220</td>\n",
       "    </tr>\n",
       "  </tbody>\n",
       "</table>\n",
       "</div>"
      ],
      "text/plain": [
       "             State  Particpation  Evidence-Based Reading and Writing  Math  \\\n",
       "47       Virginia           65.0                                 567   549   \n",
       "48     Washington           69.0                                 539   534   \n",
       "49  West Virginia           98.0                                 480   456   \n",
       "50      Wisconsin            3.0                                 615   628   \n",
       "51        Wyoming            2.0                                 614   606   \n",
       "\n",
       "    Total  \n",
       "47   1116  \n",
       "48   1073  \n",
       "49    936  \n",
       "50   1243  \n",
       "51   1220  "
      ]
     },
     "metadata": {},
     "output_type": "display_data"
    }
   ],
   "source": [
    "#Import data\n",
    "df_sat20=pd.read_csv(\"00-data/sat_2020.csv\")\n",
    "\n",
    "#Display top and bottom 5 rows\n",
    "display(df_sat20.head())\n",
    "display(df_sat20.tail())"
   ]
  },
  {
   "cell_type": "code",
   "execution_count": 23,
   "metadata": {},
   "outputs": [
    {
     "data": {
      "text/plain": [
       "State                                  object\n",
       "Particpation                          float64\n",
       "Evidence-Based Reading and Writing      int64\n",
       "Math                                    int64\n",
       "Total                                   int64\n",
       "dtype: object"
      ]
     },
     "execution_count": 23,
     "metadata": {},
     "output_type": "execute_result"
    }
   ],
   "source": [
    "#Check data types\n",
    "df_sat20.dtypes"
   ]
  },
  {
   "cell_type": "code",
   "execution_count": 24,
   "metadata": {},
   "outputs": [
    {
     "data": {
      "text/plain": [
       "array([  2.        ,   3.        ,   4.        ,   5.        ,\n",
       "         7.        ,  10.        ,  17.        ,  19.        ,\n",
       "        20.        ,  21.        ,  29.        ,  37.        ,\n",
       "        48.        ,  51.        ,  60.47001612,  63.        ,\n",
       "        64.        ,  65.        ,  67.        ,  68.        ,\n",
       "        69.        ,  73.        ,  79.        ,  80.        ,\n",
       "        82.        ,  88.        ,  93.        ,  98.        ,\n",
       "       100.        ])"
      ]
     },
     "execution_count": 24,
     "metadata": {},
     "output_type": "execute_result"
    }
   ],
   "source": [
    "#Check unique strings in participation column\n",
    "np.unique(df_sat20[\"Particpation\"])"
   ]
  },
  {
   "cell_type": "code",
   "execution_count": 25,
   "metadata": {},
   "outputs": [
    {
     "data": {
      "text/plain": [
       "array([ 936,  971,  978,  979,  984,  990,  992,  995,  998, 1007, 1010,\n",
       "       1012, 1026, 1029, 1039, 1049, 1051, 1053, 1055, 1058, 1070, 1073,\n",
       "       1074, 1078, 1081, 1095, 1096, 1098, 1103, 1104, 1116, 1119, 1127,\n",
       "       1139, 1150, 1157, 1170, 1185, 1186, 1203, 1204, 1207, 1212, 1218,\n",
       "       1220, 1229, 1231, 1237, 1243, 1257])"
      ]
     },
     "execution_count": 25,
     "metadata": {},
     "output_type": "execute_result"
    }
   ],
   "source": [
    "#Check unique numbers\n",
    "np.unique(df_sat20[\"Total\"])"
   ]
  },
  {
   "cell_type": "code",
   "execution_count": 26,
   "metadata": {},
   "outputs": [
    {
     "data": {
      "text/plain": [
       "52"
      ]
     },
     "execution_count": 26,
     "metadata": {},
     "output_type": "execute_result"
    }
   ],
   "source": [
    "#Check unique words\n",
    "len(np.unique(df_sat20[\"State\"]))"
   ]
  },
  {
   "cell_type": "code",
   "execution_count": 27,
   "metadata": {},
   "outputs": [
    {
     "data": {
      "text/plain": [
       "0"
      ]
     },
     "execution_count": 27,
     "metadata": {},
     "output_type": "execute_result"
    }
   ],
   "source": [
    "#Check duplicates\n",
    "df_sat20.duplicated().sum()"
   ]
  },
  {
   "cell_type": "code",
   "execution_count": 28,
   "metadata": {},
   "outputs": [
    {
     "data": {
      "text/html": [
       "<div>\n",
       "<style scoped>\n",
       "    .dataframe tbody tr th:only-of-type {\n",
       "        vertical-align: middle;\n",
       "    }\n",
       "\n",
       "    .dataframe tbody tr th {\n",
       "        vertical-align: top;\n",
       "    }\n",
       "\n",
       "    .dataframe thead th {\n",
       "        text-align: right;\n",
       "    }\n",
       "</style>\n",
       "<table border=\"1\" class=\"dataframe\">\n",
       "  <thead>\n",
       "    <tr style=\"text-align: right;\">\n",
       "      <th></th>\n",
       "      <th>State</th>\n",
       "      <th>Particpation</th>\n",
       "      <th>Evidence-Based Reading and Writing</th>\n",
       "      <th>Math</th>\n",
       "      <th>Total</th>\n",
       "    </tr>\n",
       "  </thead>\n",
       "  <tbody>\n",
       "    <tr>\n",
       "      <th>0</th>\n",
       "      <td>National</td>\n",
       "      <td>0.6047</td>\n",
       "      <td>528</td>\n",
       "      <td>523</td>\n",
       "      <td>1051</td>\n",
       "    </tr>\n",
       "    <tr>\n",
       "      <th>1</th>\n",
       "      <td>Alabama</td>\n",
       "      <td>0.0700</td>\n",
       "      <td>576</td>\n",
       "      <td>551</td>\n",
       "      <td>1127</td>\n",
       "    </tr>\n",
       "    <tr>\n",
       "      <th>2</th>\n",
       "      <td>Alaska</td>\n",
       "      <td>0.3700</td>\n",
       "      <td>555</td>\n",
       "      <td>543</td>\n",
       "      <td>1098</td>\n",
       "    </tr>\n",
       "    <tr>\n",
       "      <th>3</th>\n",
       "      <td>Arizona</td>\n",
       "      <td>0.2900</td>\n",
       "      <td>571</td>\n",
       "      <td>568</td>\n",
       "      <td>1139</td>\n",
       "    </tr>\n",
       "    <tr>\n",
       "      <th>4</th>\n",
       "      <td>Arkansas</td>\n",
       "      <td>0.0400</td>\n",
       "      <td>590</td>\n",
       "      <td>567</td>\n",
       "      <td>1157</td>\n",
       "    </tr>\n",
       "  </tbody>\n",
       "</table>\n",
       "</div>"
      ],
      "text/plain": [
       "       State  Particpation  Evidence-Based Reading and Writing  Math  Total\n",
       "0   National        0.6047                                 528   523   1051\n",
       "1   Alabama         0.0700                                 576   551   1127\n",
       "2    Alaska         0.3700                                 555   543   1098\n",
       "3   Arizona         0.2900                                 571   568   1139\n",
       "4  Arkansas         0.0400                                 590   567   1157"
      ]
     },
     "metadata": {},
     "output_type": "display_data"
    },
    {
     "data": {
      "text/html": [
       "<div>\n",
       "<style scoped>\n",
       "    .dataframe tbody tr th:only-of-type {\n",
       "        vertical-align: middle;\n",
       "    }\n",
       "\n",
       "    .dataframe tbody tr th {\n",
       "        vertical-align: top;\n",
       "    }\n",
       "\n",
       "    .dataframe thead th {\n",
       "        text-align: right;\n",
       "    }\n",
       "</style>\n",
       "<table border=\"1\" class=\"dataframe\">\n",
       "  <thead>\n",
       "    <tr style=\"text-align: right;\">\n",
       "      <th></th>\n",
       "      <th>State</th>\n",
       "      <th>Particpation</th>\n",
       "      <th>Evidence-Based Reading and Writing</th>\n",
       "      <th>Math</th>\n",
       "      <th>Total</th>\n",
       "    </tr>\n",
       "  </thead>\n",
       "  <tbody>\n",
       "    <tr>\n",
       "      <th>47</th>\n",
       "      <td>Virginia</td>\n",
       "      <td>0.65</td>\n",
       "      <td>567</td>\n",
       "      <td>549</td>\n",
       "      <td>1116</td>\n",
       "    </tr>\n",
       "    <tr>\n",
       "      <th>48</th>\n",
       "      <td>Washington</td>\n",
       "      <td>0.69</td>\n",
       "      <td>539</td>\n",
       "      <td>534</td>\n",
       "      <td>1073</td>\n",
       "    </tr>\n",
       "    <tr>\n",
       "      <th>49</th>\n",
       "      <td>West Virginia</td>\n",
       "      <td>0.98</td>\n",
       "      <td>480</td>\n",
       "      <td>456</td>\n",
       "      <td>936</td>\n",
       "    </tr>\n",
       "    <tr>\n",
       "      <th>50</th>\n",
       "      <td>Wisconsin</td>\n",
       "      <td>0.03</td>\n",
       "      <td>615</td>\n",
       "      <td>628</td>\n",
       "      <td>1243</td>\n",
       "    </tr>\n",
       "    <tr>\n",
       "      <th>51</th>\n",
       "      <td>Wyoming</td>\n",
       "      <td>0.02</td>\n",
       "      <td>614</td>\n",
       "      <td>606</td>\n",
       "      <td>1220</td>\n",
       "    </tr>\n",
       "  </tbody>\n",
       "</table>\n",
       "</div>"
      ],
      "text/plain": [
       "             State  Particpation  Evidence-Based Reading and Writing  Math  \\\n",
       "47       Virginia           0.65                                 567   549   \n",
       "48     Washington           0.69                                 539   534   \n",
       "49  West Virginia           0.98                                 480   456   \n",
       "50      Wisconsin           0.03                                 615   628   \n",
       "51        Wyoming           0.02                                 614   606   \n",
       "\n",
       "    Total  \n",
       "47   1116  \n",
       "48   1073  \n",
       "49    936  \n",
       "50   1243  \n",
       "51   1220  "
      ]
     },
     "metadata": {},
     "output_type": "display_data"
    }
   ],
   "source": [
    "#Change % to decimal\n",
    "df_sat20[\"Particpation\"]=df_sat20[\"Particpation\"]/100\n",
    "display(df_sat20.head())\n",
    "display(df_sat20.tail())"
   ]
  },
  {
   "cell_type": "code",
   "execution_count": 29,
   "metadata": {},
   "outputs": [
    {
     "data": {
      "text/plain": [
       "43"
      ]
     },
     "metadata": {},
     "output_type": "display_data"
    },
    {
     "data": {
      "text/plain": [
       "9"
      ]
     },
     "metadata": {},
     "output_type": "display_data"
    },
    {
     "data": {
      "text/html": [
       "<div>\n",
       "<style scoped>\n",
       "    .dataframe tbody tr th:only-of-type {\n",
       "        vertical-align: middle;\n",
       "    }\n",
       "\n",
       "    .dataframe tbody tr th {\n",
       "        vertical-align: top;\n",
       "    }\n",
       "\n",
       "    .dataframe thead th {\n",
       "        text-align: right;\n",
       "    }\n",
       "</style>\n",
       "<table border=\"1\" class=\"dataframe\">\n",
       "  <thead>\n",
       "    <tr style=\"text-align: right;\">\n",
       "      <th></th>\n",
       "      <th>State</th>\n",
       "      <th>Particpation</th>\n",
       "      <th>Evidence-Based Reading and Writing</th>\n",
       "      <th>Math</th>\n",
       "      <th>Total</th>\n",
       "      <th>difference</th>\n",
       "    </tr>\n",
       "  </thead>\n",
       "  <tbody>\n",
       "    <tr>\n",
       "      <th>9</th>\n",
       "      <td>District of Columbia</td>\n",
       "      <td>1.00</td>\n",
       "      <td>498</td>\n",
       "      <td>482</td>\n",
       "      <td>979</td>\n",
       "      <td>-1</td>\n",
       "    </tr>\n",
       "    <tr>\n",
       "      <th>10</th>\n",
       "      <td>Florida</td>\n",
       "      <td>1.00</td>\n",
       "      <td>512</td>\n",
       "      <td>479</td>\n",
       "      <td>992</td>\n",
       "      <td>1</td>\n",
       "    </tr>\n",
       "    <tr>\n",
       "      <th>26</th>\n",
       "      <td>Missouri</td>\n",
       "      <td>0.04</td>\n",
       "      <td>610</td>\n",
       "      <td>603</td>\n",
       "      <td>1212</td>\n",
       "      <td>-1</td>\n",
       "    </tr>\n",
       "    <tr>\n",
       "      <th>34</th>\n",
       "      <td>North Carolina</td>\n",
       "      <td>0.48</td>\n",
       "      <td>553</td>\n",
       "      <td>544</td>\n",
       "      <td>1096</td>\n",
       "      <td>-1</td>\n",
       "    </tr>\n",
       "    <tr>\n",
       "      <th>35</th>\n",
       "      <td>North Dakota</td>\n",
       "      <td>0.02</td>\n",
       "      <td>615</td>\n",
       "      <td>617</td>\n",
       "      <td>1231</td>\n",
       "      <td>-1</td>\n",
       "    </tr>\n",
       "    <tr>\n",
       "      <th>39</th>\n",
       "      <td>Pennsylvania</td>\n",
       "      <td>0.67</td>\n",
       "      <td>543</td>\n",
       "      <td>534</td>\n",
       "      <td>1078</td>\n",
       "      <td>1</td>\n",
       "    </tr>\n",
       "    <tr>\n",
       "      <th>41</th>\n",
       "      <td>South Carolina</td>\n",
       "      <td>0.68</td>\n",
       "      <td>524</td>\n",
       "      <td>503</td>\n",
       "      <td>1026</td>\n",
       "      <td>-1</td>\n",
       "    </tr>\n",
       "    <tr>\n",
       "      <th>42</th>\n",
       "      <td>South Dakota</td>\n",
       "      <td>0.03</td>\n",
       "      <td>609</td>\n",
       "      <td>610</td>\n",
       "      <td>1218</td>\n",
       "      <td>-1</td>\n",
       "    </tr>\n",
       "    <tr>\n",
       "      <th>46</th>\n",
       "      <td>Vermont</td>\n",
       "      <td>0.63</td>\n",
       "      <td>559</td>\n",
       "      <td>545</td>\n",
       "      <td>1103</td>\n",
       "      <td>-1</td>\n",
       "    </tr>\n",
       "  </tbody>\n",
       "</table>\n",
       "</div>"
      ],
      "text/plain": [
       "                    State  Particpation  Evidence-Based Reading and Writing  \\\n",
       "9   District of Columbia           1.00                                 498   \n",
       "10               Florida           1.00                                 512   \n",
       "26              Missouri           0.04                                 610   \n",
       "34        North Carolina           0.48                                 553   \n",
       "35          North Dakota           0.02                                 615   \n",
       "39          Pennsylvania           0.67                                 543   \n",
       "41        South Carolina           0.68                                 524   \n",
       "42          South Dakota           0.03                                 609   \n",
       "46               Vermont           0.63                                 559   \n",
       "\n",
       "    Math  Total  difference  \n",
       "9    482    979          -1  \n",
       "10   479    992           1  \n",
       "26   603   1212          -1  \n",
       "34   544   1096          -1  \n",
       "35   617   1231          -1  \n",
       "39   534   1078           1  \n",
       "41   503   1026          -1  \n",
       "42   610   1218          -1  \n",
       "46   545   1103          -1  "
      ]
     },
     "metadata": {},
     "output_type": "display_data"
    }
   ],
   "source": [
    "#Check if the total column is correct\n",
    "\n",
    "#Create a column to calculate the difference between total\n",
    "df_sat20[\"difference\"] = df_sat20[\"Total\"] - (df_sat20[\"Evidence-Based Reading and Writing\"] + df_sat20[\"Math\"])\n",
    "\n",
    "#Check the difference\n",
    "display((df_sat20[\"difference\"]==0).sum())\n",
    "\n",
    "#Check the sum rows that is not 0 in the difference column\n",
    "display((df_sat20[\"difference\"]!=0).sum())\n",
    "\n",
    "#Check rows that is not 0 in the difference column\n",
    "display(df_sat20.loc[df_sat20[\"difference\"]!=0])"
   ]
  },
  {
   "cell_type": "markdown",
   "metadata": {},
   "source": [
    "The difference results will be ignored as it is insignificance to affect our results."
   ]
  },
  {
   "cell_type": "code",
   "execution_count": 30,
   "metadata": {},
   "outputs": [
    {
     "data": {
      "text/html": [
       "<div>\n",
       "<style scoped>\n",
       "    .dataframe tbody tr th:only-of-type {\n",
       "        vertical-align: middle;\n",
       "    }\n",
       "\n",
       "    .dataframe tbody tr th {\n",
       "        vertical-align: top;\n",
       "    }\n",
       "\n",
       "    .dataframe thead th {\n",
       "        text-align: right;\n",
       "    }\n",
       "</style>\n",
       "<table border=\"1\" class=\"dataframe\">\n",
       "  <thead>\n",
       "    <tr style=\"text-align: right;\">\n",
       "      <th></th>\n",
       "      <th>State</th>\n",
       "      <th>Particpation</th>\n",
       "      <th>Total</th>\n",
       "    </tr>\n",
       "  </thead>\n",
       "  <tbody>\n",
       "    <tr>\n",
       "      <th>0</th>\n",
       "      <td>National</td>\n",
       "      <td>0.6047</td>\n",
       "      <td>1051</td>\n",
       "    </tr>\n",
       "    <tr>\n",
       "      <th>1</th>\n",
       "      <td>Alabama</td>\n",
       "      <td>0.0700</td>\n",
       "      <td>1127</td>\n",
       "    </tr>\n",
       "    <tr>\n",
       "      <th>2</th>\n",
       "      <td>Alaska</td>\n",
       "      <td>0.3700</td>\n",
       "      <td>1098</td>\n",
       "    </tr>\n",
       "    <tr>\n",
       "      <th>3</th>\n",
       "      <td>Arizona</td>\n",
       "      <td>0.2900</td>\n",
       "      <td>1139</td>\n",
       "    </tr>\n",
       "    <tr>\n",
       "      <th>4</th>\n",
       "      <td>Arkansas</td>\n",
       "      <td>0.0400</td>\n",
       "      <td>1157</td>\n",
       "    </tr>\n",
       "  </tbody>\n",
       "</table>\n",
       "</div>"
      ],
      "text/plain": [
       "       State  Particpation  Total\n",
       "0   National        0.6047   1051\n",
       "1   Alabama         0.0700   1127\n",
       "2    Alaska         0.3700   1098\n",
       "3   Arizona         0.2900   1139\n",
       "4  Arkansas         0.0400   1157"
      ]
     },
     "metadata": {},
     "output_type": "display_data"
    },
    {
     "data": {
      "text/html": [
       "<div>\n",
       "<style scoped>\n",
       "    .dataframe tbody tr th:only-of-type {\n",
       "        vertical-align: middle;\n",
       "    }\n",
       "\n",
       "    .dataframe tbody tr th {\n",
       "        vertical-align: top;\n",
       "    }\n",
       "\n",
       "    .dataframe thead th {\n",
       "        text-align: right;\n",
       "    }\n",
       "</style>\n",
       "<table border=\"1\" class=\"dataframe\">\n",
       "  <thead>\n",
       "    <tr style=\"text-align: right;\">\n",
       "      <th></th>\n",
       "      <th>State</th>\n",
       "      <th>Particpation</th>\n",
       "      <th>Total</th>\n",
       "    </tr>\n",
       "  </thead>\n",
       "  <tbody>\n",
       "    <tr>\n",
       "      <th>47</th>\n",
       "      <td>Virginia</td>\n",
       "      <td>0.65</td>\n",
       "      <td>1116</td>\n",
       "    </tr>\n",
       "    <tr>\n",
       "      <th>48</th>\n",
       "      <td>Washington</td>\n",
       "      <td>0.69</td>\n",
       "      <td>1073</td>\n",
       "    </tr>\n",
       "    <tr>\n",
       "      <th>49</th>\n",
       "      <td>West Virginia</td>\n",
       "      <td>0.98</td>\n",
       "      <td>936</td>\n",
       "    </tr>\n",
       "    <tr>\n",
       "      <th>50</th>\n",
       "      <td>Wisconsin</td>\n",
       "      <td>0.03</td>\n",
       "      <td>1243</td>\n",
       "    </tr>\n",
       "    <tr>\n",
       "      <th>51</th>\n",
       "      <td>Wyoming</td>\n",
       "      <td>0.02</td>\n",
       "      <td>1220</td>\n",
       "    </tr>\n",
       "  </tbody>\n",
       "</table>\n",
       "</div>"
      ],
      "text/plain": [
       "             State  Particpation  Total\n",
       "47       Virginia           0.65   1116\n",
       "48     Washington           0.69   1073\n",
       "49  West Virginia           0.98    936\n",
       "50      Wisconsin           0.03   1243\n",
       "51        Wyoming           0.02   1220"
      ]
     },
     "metadata": {},
     "output_type": "display_data"
    }
   ],
   "source": [
    "#Hide unwanted columns\n",
    "df_sat20_subset=df_sat20[[\"State\",\"Particpation\",\"Total\"]]\n",
    "\n",
    "#Check results by printing the first and last 5 rows\n",
    "display(df_sat20_subset.head())\n",
    "display(df_sat20_subset.tail())"
   ]
  },
  {
   "cell_type": "code",
   "execution_count": 31,
   "metadata": {},
   "outputs": [
    {
     "data": {
      "text/html": [
       "<div>\n",
       "<style scoped>\n",
       "    .dataframe tbody tr th:only-of-type {\n",
       "        vertical-align: middle;\n",
       "    }\n",
       "\n",
       "    .dataframe tbody tr th {\n",
       "        vertical-align: top;\n",
       "    }\n",
       "\n",
       "    .dataframe thead th {\n",
       "        text-align: right;\n",
       "    }\n",
       "</style>\n",
       "<table border=\"1\" class=\"dataframe\">\n",
       "  <thead>\n",
       "    <tr style=\"text-align: right;\">\n",
       "      <th></th>\n",
       "      <th>state</th>\n",
       "      <th>p_rate_20</th>\n",
       "      <th>total_20</th>\n",
       "    </tr>\n",
       "  </thead>\n",
       "  <tbody>\n",
       "    <tr>\n",
       "      <th>0</th>\n",
       "      <td>National</td>\n",
       "      <td>0.6047</td>\n",
       "      <td>1051</td>\n",
       "    </tr>\n",
       "    <tr>\n",
       "      <th>1</th>\n",
       "      <td>Alabama</td>\n",
       "      <td>0.0700</td>\n",
       "      <td>1127</td>\n",
       "    </tr>\n",
       "    <tr>\n",
       "      <th>2</th>\n",
       "      <td>Alaska</td>\n",
       "      <td>0.3700</td>\n",
       "      <td>1098</td>\n",
       "    </tr>\n",
       "    <tr>\n",
       "      <th>3</th>\n",
       "      <td>Arizona</td>\n",
       "      <td>0.2900</td>\n",
       "      <td>1139</td>\n",
       "    </tr>\n",
       "    <tr>\n",
       "      <th>4</th>\n",
       "      <td>Arkansas</td>\n",
       "      <td>0.0400</td>\n",
       "      <td>1157</td>\n",
       "    </tr>\n",
       "  </tbody>\n",
       "</table>\n",
       "</div>"
      ],
      "text/plain": [
       "      state  p_rate_20  total_20\n",
       "0  National     0.6047      1051\n",
       "1   Alabama     0.0700      1127\n",
       "2    Alaska     0.3700      1098\n",
       "3   Arizona     0.2900      1139\n",
       "4  Arkansas     0.0400      1157"
      ]
     },
     "metadata": {},
     "output_type": "display_data"
    },
    {
     "data": {
      "text/html": [
       "<div>\n",
       "<style scoped>\n",
       "    .dataframe tbody tr th:only-of-type {\n",
       "        vertical-align: middle;\n",
       "    }\n",
       "\n",
       "    .dataframe tbody tr th {\n",
       "        vertical-align: top;\n",
       "    }\n",
       "\n",
       "    .dataframe thead th {\n",
       "        text-align: right;\n",
       "    }\n",
       "</style>\n",
       "<table border=\"1\" class=\"dataframe\">\n",
       "  <thead>\n",
       "    <tr style=\"text-align: right;\">\n",
       "      <th></th>\n",
       "      <th>state</th>\n",
       "      <th>p_rate_20</th>\n",
       "      <th>total_20</th>\n",
       "    </tr>\n",
       "  </thead>\n",
       "  <tbody>\n",
       "    <tr>\n",
       "      <th>47</th>\n",
       "      <td>Virginia</td>\n",
       "      <td>0.65</td>\n",
       "      <td>1116</td>\n",
       "    </tr>\n",
       "    <tr>\n",
       "      <th>48</th>\n",
       "      <td>Washington</td>\n",
       "      <td>0.69</td>\n",
       "      <td>1073</td>\n",
       "    </tr>\n",
       "    <tr>\n",
       "      <th>49</th>\n",
       "      <td>West Virginia</td>\n",
       "      <td>0.98</td>\n",
       "      <td>936</td>\n",
       "    </tr>\n",
       "    <tr>\n",
       "      <th>50</th>\n",
       "      <td>Wisconsin</td>\n",
       "      <td>0.03</td>\n",
       "      <td>1243</td>\n",
       "    </tr>\n",
       "    <tr>\n",
       "      <th>51</th>\n",
       "      <td>Wyoming</td>\n",
       "      <td>0.02</td>\n",
       "      <td>1220</td>\n",
       "    </tr>\n",
       "  </tbody>\n",
       "</table>\n",
       "</div>"
      ],
      "text/plain": [
       "            state  p_rate_20  total_20\n",
       "47       Virginia       0.65      1116\n",
       "48     Washington       0.69      1073\n",
       "49  West Virginia       0.98       936\n",
       "50      Wisconsin       0.03      1243\n",
       "51        Wyoming       0.02      1220"
      ]
     },
     "metadata": {},
     "output_type": "display_data"
    }
   ],
   "source": [
    "#Rename columns\n",
    "\n",
    "df_sat20_subset.columns=df_sat20_subset.columns.str.lower()\n",
    "df_sat20_subset_copy=df_sat20_subset.copy()\n",
    "df20_sub=df_sat20_subset_copy.rename(columns={\"particpation\": \"p_rate_20\",\n",
    "                                              \"total\":\"total_20\"})\n",
    "df20_sub[\"state\"] = df20_sub[\"state\"].map(lambda x: x.strip())\n",
    "\n",
    "#Check results by printing the first and last 5 rows\n",
    "display(df20_sub.head())\n",
    "display(df20_sub.tail())"
   ]
  },
  {
   "cell_type": "markdown",
   "metadata": {},
   "source": [
    "### 4th Dataset : 2021 SAT Scores by State"
   ]
  },
  {
   "cell_type": "code",
   "execution_count": 32,
   "metadata": {},
   "outputs": [
    {
     "data": {
      "text/html": [
       "<div>\n",
       "<style scoped>\n",
       "    .dataframe tbody tr th:only-of-type {\n",
       "        vertical-align: middle;\n",
       "    }\n",
       "\n",
       "    .dataframe tbody tr th {\n",
       "        vertical-align: top;\n",
       "    }\n",
       "\n",
       "    .dataframe thead th {\n",
       "        text-align: right;\n",
       "    }\n",
       "</style>\n",
       "<table border=\"1\" class=\"dataframe\">\n",
       "  <thead>\n",
       "    <tr style=\"text-align: right;\">\n",
       "      <th></th>\n",
       "      <th>State</th>\n",
       "      <th>Participation</th>\n",
       "      <th>Evidence-Based Reading and Writing</th>\n",
       "      <th>Math</th>\n",
       "      <th>Total</th>\n",
       "    </tr>\n",
       "  </thead>\n",
       "  <tbody>\n",
       "    <tr>\n",
       "      <th>0</th>\n",
       "      <td>National</td>\n",
       "      <td>41.128074</td>\n",
       "      <td>533</td>\n",
       "      <td>528</td>\n",
       "      <td>1060</td>\n",
       "    </tr>\n",
       "    <tr>\n",
       "      <th>1</th>\n",
       "      <td>Alabama</td>\n",
       "      <td>3.000000</td>\n",
       "      <td>591</td>\n",
       "      <td>568</td>\n",
       "      <td>1159</td>\n",
       "    </tr>\n",
       "    <tr>\n",
       "      <th>2</th>\n",
       "      <td>Alaska</td>\n",
       "      <td>23.000000</td>\n",
       "      <td>567</td>\n",
       "      <td>553</td>\n",
       "      <td>1119</td>\n",
       "    </tr>\n",
       "    <tr>\n",
       "      <th>3</th>\n",
       "      <td>Arizona</td>\n",
       "      <td>11.000000</td>\n",
       "      <td>592</td>\n",
       "      <td>589</td>\n",
       "      <td>1181</td>\n",
       "    </tr>\n",
       "    <tr>\n",
       "      <th>4</th>\n",
       "      <td>Arkansas</td>\n",
       "      <td>2.000000</td>\n",
       "      <td>610</td>\n",
       "      <td>584</td>\n",
       "      <td>1194</td>\n",
       "    </tr>\n",
       "  </tbody>\n",
       "</table>\n",
       "</div>"
      ],
      "text/plain": [
       "       State  Participation  Evidence-Based Reading and Writing  Math  Total\n",
       "0   National      41.128074                                 533   528   1060\n",
       "1   Alabama        3.000000                                 591   568   1159\n",
       "2    Alaska       23.000000                                 567   553   1119\n",
       "3   Arizona       11.000000                                 592   589   1181\n",
       "4  Arkansas        2.000000                                 610   584   1194"
      ]
     },
     "metadata": {},
     "output_type": "display_data"
    },
    {
     "data": {
      "text/html": [
       "<div>\n",
       "<style scoped>\n",
       "    .dataframe tbody tr th:only-of-type {\n",
       "        vertical-align: middle;\n",
       "    }\n",
       "\n",
       "    .dataframe tbody tr th {\n",
       "        vertical-align: top;\n",
       "    }\n",
       "\n",
       "    .dataframe thead th {\n",
       "        text-align: right;\n",
       "    }\n",
       "</style>\n",
       "<table border=\"1\" class=\"dataframe\">\n",
       "  <thead>\n",
       "    <tr style=\"text-align: right;\">\n",
       "      <th></th>\n",
       "      <th>State</th>\n",
       "      <th>Participation</th>\n",
       "      <th>Evidence-Based Reading and Writing</th>\n",
       "      <th>Math</th>\n",
       "      <th>Total</th>\n",
       "    </tr>\n",
       "  </thead>\n",
       "  <tbody>\n",
       "    <tr>\n",
       "      <th>47</th>\n",
       "      <td>Virginia</td>\n",
       "      <td>41.0</td>\n",
       "      <td>584</td>\n",
       "      <td>567</td>\n",
       "      <td>1151</td>\n",
       "    </tr>\n",
       "    <tr>\n",
       "      <th>48</th>\n",
       "      <td>Washington</td>\n",
       "      <td>27.0</td>\n",
       "      <td>537</td>\n",
       "      <td>535</td>\n",
       "      <td>1072</td>\n",
       "    </tr>\n",
       "    <tr>\n",
       "      <th>49</th>\n",
       "      <td>West Virginia</td>\n",
       "      <td>45.0</td>\n",
       "      <td>520</td>\n",
       "      <td>487</td>\n",
       "      <td>1007</td>\n",
       "    </tr>\n",
       "    <tr>\n",
       "      <th>50</th>\n",
       "      <td>Wisconsin</td>\n",
       "      <td>1.0</td>\n",
       "      <td>604</td>\n",
       "      <td>611</td>\n",
       "      <td>1215</td>\n",
       "    </tr>\n",
       "    <tr>\n",
       "      <th>51</th>\n",
       "      <td>Wyoming</td>\n",
       "      <td>2.0</td>\n",
       "      <td>626</td>\n",
       "      <td>607</td>\n",
       "      <td>1233</td>\n",
       "    </tr>\n",
       "  </tbody>\n",
       "</table>\n",
       "</div>"
      ],
      "text/plain": [
       "             State  Participation  Evidence-Based Reading and Writing  Math  \\\n",
       "47       Virginia            41.0                                 584   567   \n",
       "48     Washington            27.0                                 537   535   \n",
       "49  West Virginia            45.0                                 520   487   \n",
       "50      Wisconsin             1.0                                 604   611   \n",
       "51        Wyoming             2.0                                 626   607   \n",
       "\n",
       "    Total  \n",
       "47   1151  \n",
       "48   1072  \n",
       "49   1007  \n",
       "50   1215  \n",
       "51   1233  "
      ]
     },
     "metadata": {},
     "output_type": "display_data"
    }
   ],
   "source": [
    "#Import data\n",
    "df_sat21=pd.read_csv(\"00-data/sat_2021.csv\")\n",
    "\n",
    "#Display results of the first and last 5 rows\n",
    "display(df_sat21.head())\n",
    "display(df_sat21.tail())"
   ]
  },
  {
   "cell_type": "code",
   "execution_count": 33,
   "metadata": {},
   "outputs": [
    {
     "data": {
      "text/plain": [
       "State                                  object\n",
       "Participation                         float64\n",
       "Evidence-Based Reading and Writing      int64\n",
       "Math                                    int64\n",
       "Total                                   int64\n",
       "dtype: object"
      ]
     },
     "execution_count": 33,
     "metadata": {},
     "output_type": "execute_result"
    }
   ],
   "source": [
    "#Check data types\n",
    "df_sat21.dtypes"
   ]
  },
  {
   "cell_type": "code",
   "execution_count": 34,
   "metadata": {},
   "outputs": [
    {
     "data": {
      "text/plain": [
       "array([ 1.        ,  2.        ,  3.        ,  4.        ,  5.        ,\n",
       "        6.        , 11.        , 15.        , 17.        , 23.        ,\n",
       "       24.        , 26.        , 27.        , 29.        , 30.        ,\n",
       "       34.        , 39.        , 41.        , 41.12807445, 43.        ,\n",
       "       45.        , 47.        , 48.        , 55.        , 56.        ,\n",
       "       59.        , 68.        , 69.        , 71.        , 80.        ,\n",
       "       81.        , 90.        , 96.        ])"
      ]
     },
     "execution_count": 34,
     "metadata": {},
     "output_type": "execute_result"
    }
   ],
   "source": [
    "#Check unique strings in participation column\n",
    "np.unique(df_sat21[\"Participation\"])"
   ]
  },
  {
   "cell_type": "code",
   "execution_count": 35,
   "metadata": {},
   "outputs": [
    {
     "data": {
      "text/plain": [
       "array([ 984,  985,  987,  993,  996, 1003, 1007, 1011, 1031, 1036, 1042,\n",
       "       1048, 1057, 1060, 1065, 1072, 1073, 1086, 1095, 1099, 1119, 1123,\n",
       "       1124, 1125, 1144, 1150, 1151, 1159, 1181, 1184, 1188, 1194, 1195,\n",
       "       1202, 1215, 1219, 1220, 1225, 1233, 1238, 1243, 1246, 1258, 1263])"
      ]
     },
     "execution_count": 35,
     "metadata": {},
     "output_type": "execute_result"
    }
   ],
   "source": [
    "#Check unique numbers in total column\n",
    "np.unique(df_sat21[\"Total\"])"
   ]
  },
  {
   "cell_type": "code",
   "execution_count": 36,
   "metadata": {},
   "outputs": [
    {
     "data": {
      "text/plain": [
       "52"
      ]
     },
     "execution_count": 36,
     "metadata": {},
     "output_type": "execute_result"
    }
   ],
   "source": [
    "#Check unique words\n",
    "len(np.unique(df_sat21[\"State\"]))"
   ]
  },
  {
   "cell_type": "code",
   "execution_count": 37,
   "metadata": {},
   "outputs": [
    {
     "data": {
      "text/plain": [
       "0"
      ]
     },
     "execution_count": 37,
     "metadata": {},
     "output_type": "execute_result"
    }
   ],
   "source": [
    "#Check duplicates\n",
    "df_sat21.duplicated().sum()"
   ]
  },
  {
   "cell_type": "code",
   "execution_count": 38,
   "metadata": {},
   "outputs": [
    {
     "data": {
      "text/html": [
       "<div>\n",
       "<style scoped>\n",
       "    .dataframe tbody tr th:only-of-type {\n",
       "        vertical-align: middle;\n",
       "    }\n",
       "\n",
       "    .dataframe tbody tr th {\n",
       "        vertical-align: top;\n",
       "    }\n",
       "\n",
       "    .dataframe thead th {\n",
       "        text-align: right;\n",
       "    }\n",
       "</style>\n",
       "<table border=\"1\" class=\"dataframe\">\n",
       "  <thead>\n",
       "    <tr style=\"text-align: right;\">\n",
       "      <th></th>\n",
       "      <th>State</th>\n",
       "      <th>Participation</th>\n",
       "      <th>Evidence-Based Reading and Writing</th>\n",
       "      <th>Math</th>\n",
       "      <th>Total</th>\n",
       "    </tr>\n",
       "  </thead>\n",
       "  <tbody>\n",
       "    <tr>\n",
       "      <th>0</th>\n",
       "      <td>National</td>\n",
       "      <td>0.411281</td>\n",
       "      <td>533</td>\n",
       "      <td>528</td>\n",
       "      <td>1060</td>\n",
       "    </tr>\n",
       "    <tr>\n",
       "      <th>1</th>\n",
       "      <td>Alabama</td>\n",
       "      <td>0.030000</td>\n",
       "      <td>591</td>\n",
       "      <td>568</td>\n",
       "      <td>1159</td>\n",
       "    </tr>\n",
       "    <tr>\n",
       "      <th>2</th>\n",
       "      <td>Alaska</td>\n",
       "      <td>0.230000</td>\n",
       "      <td>567</td>\n",
       "      <td>553</td>\n",
       "      <td>1119</td>\n",
       "    </tr>\n",
       "    <tr>\n",
       "      <th>3</th>\n",
       "      <td>Arizona</td>\n",
       "      <td>0.110000</td>\n",
       "      <td>592</td>\n",
       "      <td>589</td>\n",
       "      <td>1181</td>\n",
       "    </tr>\n",
       "    <tr>\n",
       "      <th>4</th>\n",
       "      <td>Arkansas</td>\n",
       "      <td>0.020000</td>\n",
       "      <td>610</td>\n",
       "      <td>584</td>\n",
       "      <td>1194</td>\n",
       "    </tr>\n",
       "  </tbody>\n",
       "</table>\n",
       "</div>"
      ],
      "text/plain": [
       "       State  Participation  Evidence-Based Reading and Writing  Math  Total\n",
       "0   National       0.411281                                 533   528   1060\n",
       "1   Alabama        0.030000                                 591   568   1159\n",
       "2    Alaska        0.230000                                 567   553   1119\n",
       "3   Arizona        0.110000                                 592   589   1181\n",
       "4  Arkansas        0.020000                                 610   584   1194"
      ]
     },
     "metadata": {},
     "output_type": "display_data"
    },
    {
     "data": {
      "text/html": [
       "<div>\n",
       "<style scoped>\n",
       "    .dataframe tbody tr th:only-of-type {\n",
       "        vertical-align: middle;\n",
       "    }\n",
       "\n",
       "    .dataframe tbody tr th {\n",
       "        vertical-align: top;\n",
       "    }\n",
       "\n",
       "    .dataframe thead th {\n",
       "        text-align: right;\n",
       "    }\n",
       "</style>\n",
       "<table border=\"1\" class=\"dataframe\">\n",
       "  <thead>\n",
       "    <tr style=\"text-align: right;\">\n",
       "      <th></th>\n",
       "      <th>State</th>\n",
       "      <th>Participation</th>\n",
       "      <th>Evidence-Based Reading and Writing</th>\n",
       "      <th>Math</th>\n",
       "      <th>Total</th>\n",
       "    </tr>\n",
       "  </thead>\n",
       "  <tbody>\n",
       "    <tr>\n",
       "      <th>47</th>\n",
       "      <td>Virginia</td>\n",
       "      <td>0.41</td>\n",
       "      <td>584</td>\n",
       "      <td>567</td>\n",
       "      <td>1151</td>\n",
       "    </tr>\n",
       "    <tr>\n",
       "      <th>48</th>\n",
       "      <td>Washington</td>\n",
       "      <td>0.27</td>\n",
       "      <td>537</td>\n",
       "      <td>535</td>\n",
       "      <td>1072</td>\n",
       "    </tr>\n",
       "    <tr>\n",
       "      <th>49</th>\n",
       "      <td>West Virginia</td>\n",
       "      <td>0.45</td>\n",
       "      <td>520</td>\n",
       "      <td>487</td>\n",
       "      <td>1007</td>\n",
       "    </tr>\n",
       "    <tr>\n",
       "      <th>50</th>\n",
       "      <td>Wisconsin</td>\n",
       "      <td>0.01</td>\n",
       "      <td>604</td>\n",
       "      <td>611</td>\n",
       "      <td>1215</td>\n",
       "    </tr>\n",
       "    <tr>\n",
       "      <th>51</th>\n",
       "      <td>Wyoming</td>\n",
       "      <td>0.02</td>\n",
       "      <td>626</td>\n",
       "      <td>607</td>\n",
       "      <td>1233</td>\n",
       "    </tr>\n",
       "  </tbody>\n",
       "</table>\n",
       "</div>"
      ],
      "text/plain": [
       "             State  Participation  Evidence-Based Reading and Writing  Math  \\\n",
       "47       Virginia            0.41                                 584   567   \n",
       "48     Washington            0.27                                 537   535   \n",
       "49  West Virginia            0.45                                 520   487   \n",
       "50      Wisconsin            0.01                                 604   611   \n",
       "51        Wyoming            0.02                                 626   607   \n",
       "\n",
       "    Total  \n",
       "47   1151  \n",
       "48   1072  \n",
       "49   1007  \n",
       "50   1215  \n",
       "51   1233  "
      ]
     },
     "metadata": {},
     "output_type": "display_data"
    }
   ],
   "source": [
    "#Change % to decimal\n",
    "df_sat21[\"Participation\"]=df_sat21[\"Participation\"]/100\n",
    "\n",
    "#Display results of the first and last 5 rows\n",
    "display(df_sat21.head())\n",
    "display(df_sat21.tail())"
   ]
  },
  {
   "cell_type": "code",
   "execution_count": 39,
   "metadata": {},
   "outputs": [
    {
     "data": {
      "text/plain": [
       "39"
      ]
     },
     "metadata": {},
     "output_type": "display_data"
    },
    {
     "data": {
      "text/plain": [
       "13"
      ]
     },
     "metadata": {},
     "output_type": "display_data"
    },
    {
     "data": {
      "text/html": [
       "<div>\n",
       "<style scoped>\n",
       "    .dataframe tbody tr th:only-of-type {\n",
       "        vertical-align: middle;\n",
       "    }\n",
       "\n",
       "    .dataframe tbody tr th {\n",
       "        vertical-align: top;\n",
       "    }\n",
       "\n",
       "    .dataframe thead th {\n",
       "        text-align: right;\n",
       "    }\n",
       "</style>\n",
       "<table border=\"1\" class=\"dataframe\">\n",
       "  <thead>\n",
       "    <tr style=\"text-align: right;\">\n",
       "      <th></th>\n",
       "      <th>State</th>\n",
       "      <th>Participation</th>\n",
       "      <th>Evidence-Based Reading and Writing</th>\n",
       "      <th>Math</th>\n",
       "      <th>Total</th>\n",
       "      <th>difference</th>\n",
       "    </tr>\n",
       "  </thead>\n",
       "  <tbody>\n",
       "    <tr>\n",
       "      <th>0</th>\n",
       "      <td>National</td>\n",
       "      <td>0.411281</td>\n",
       "      <td>533</td>\n",
       "      <td>528</td>\n",
       "      <td>1060</td>\n",
       "      <td>-1</td>\n",
       "    </tr>\n",
       "    <tr>\n",
       "      <th>2</th>\n",
       "      <td>Alaska</td>\n",
       "      <td>0.230000</td>\n",
       "      <td>567</td>\n",
       "      <td>553</td>\n",
       "      <td>1119</td>\n",
       "      <td>-1</td>\n",
       "    </tr>\n",
       "    <tr>\n",
       "      <th>11</th>\n",
       "      <td>Georgia</td>\n",
       "      <td>0.410000</td>\n",
       "      <td>551</td>\n",
       "      <td>534</td>\n",
       "      <td>1086</td>\n",
       "      <td>1</td>\n",
       "    </tr>\n",
       "    <tr>\n",
       "      <th>14</th>\n",
       "      <td>Illinois</td>\n",
       "      <td>0.800000</td>\n",
       "      <td>508</td>\n",
       "      <td>498</td>\n",
       "      <td>1007</td>\n",
       "      <td>1</td>\n",
       "    </tr>\n",
       "    <tr>\n",
       "      <th>17</th>\n",
       "      <td>Kansas</td>\n",
       "      <td>0.020000</td>\n",
       "      <td>619</td>\n",
       "      <td>623</td>\n",
       "      <td>1243</td>\n",
       "      <td>1</td>\n",
       "    </tr>\n",
       "    <tr>\n",
       "      <th>24</th>\n",
       "      <td>Minnesota</td>\n",
       "      <td>0.020000</td>\n",
       "      <td>626</td>\n",
       "      <td>636</td>\n",
       "      <td>1263</td>\n",
       "      <td>1</td>\n",
       "    </tr>\n",
       "    <tr>\n",
       "      <th>25</th>\n",
       "      <td>Mississippi</td>\n",
       "      <td>0.010000</td>\n",
       "      <td>612</td>\n",
       "      <td>589</td>\n",
       "      <td>1202</td>\n",
       "      <td>1</td>\n",
       "    </tr>\n",
       "    <tr>\n",
       "      <th>26</th>\n",
       "      <td>Missouri</td>\n",
       "      <td>0.020000</td>\n",
       "      <td>614</td>\n",
       "      <td>606</td>\n",
       "      <td>1219</td>\n",
       "      <td>-1</td>\n",
       "    </tr>\n",
       "    <tr>\n",
       "      <th>28</th>\n",
       "      <td>Nebraska</td>\n",
       "      <td>0.020000</td>\n",
       "      <td>625</td>\n",
       "      <td>620</td>\n",
       "      <td>1246</td>\n",
       "      <td>1</td>\n",
       "    </tr>\n",
       "    <tr>\n",
       "      <th>29</th>\n",
       "      <td>Nevada</td>\n",
       "      <td>0.040000</td>\n",
       "      <td>596</td>\n",
       "      <td>598</td>\n",
       "      <td>1195</td>\n",
       "      <td>1</td>\n",
       "    </tr>\n",
       "    <tr>\n",
       "      <th>30</th>\n",
       "      <td>New Hampshire</td>\n",
       "      <td>0.710000</td>\n",
       "      <td>540</td>\n",
       "      <td>526</td>\n",
       "      <td>1065</td>\n",
       "      <td>-1</td>\n",
       "    </tr>\n",
       "    <tr>\n",
       "      <th>34</th>\n",
       "      <td>North Carolina</td>\n",
       "      <td>0.230000</td>\n",
       "      <td>578</td>\n",
       "      <td>571</td>\n",
       "      <td>1150</td>\n",
       "      <td>1</td>\n",
       "    </tr>\n",
       "    <tr>\n",
       "      <th>35</th>\n",
       "      <td>North Dakota</td>\n",
       "      <td>0.010000</td>\n",
       "      <td>631</td>\n",
       "      <td>628</td>\n",
       "      <td>1258</td>\n",
       "      <td>-1</td>\n",
       "    </tr>\n",
       "  </tbody>\n",
       "</table>\n",
       "</div>"
      ],
      "text/plain": [
       "              State  Participation  Evidence-Based Reading and Writing  Math  \\\n",
       "0          National       0.411281                                 533   528   \n",
       "2           Alaska        0.230000                                 567   553   \n",
       "11         Georgia        0.410000                                 551   534   \n",
       "14        Illinois        0.800000                                 508   498   \n",
       "17          Kansas        0.020000                                 619   623   \n",
       "24       Minnesota        0.020000                                 626   636   \n",
       "25     Mississippi        0.010000                                 612   589   \n",
       "26        Missouri        0.020000                                 614   606   \n",
       "28        Nebraska        0.020000                                 625   620   \n",
       "29          Nevada        0.040000                                 596   598   \n",
       "30   New Hampshire        0.710000                                 540   526   \n",
       "34  North Carolina        0.230000                                 578   571   \n",
       "35    North Dakota        0.010000                                 631   628   \n",
       "\n",
       "    Total  difference  \n",
       "0    1060          -1  \n",
       "2    1119          -1  \n",
       "11   1086           1  \n",
       "14   1007           1  \n",
       "17   1243           1  \n",
       "24   1263           1  \n",
       "25   1202           1  \n",
       "26   1219          -1  \n",
       "28   1246           1  \n",
       "29   1195           1  \n",
       "30   1065          -1  \n",
       "34   1150           1  \n",
       "35   1258          -1  "
      ]
     },
     "metadata": {},
     "output_type": "display_data"
    }
   ],
   "source": [
    "#Check if the total column is correct\n",
    "\n",
    "#Create a column to calculate the difference between total\n",
    "df_sat21[\"difference\"] = df_sat21[\"Total\"] - (df_sat21[\"Evidence-Based Reading and Writing\"] + df_sat21[\"Math\"])\n",
    "\n",
    "#Check the difference if there is any mis-calculation\n",
    "display((df_sat21[\"difference\"]==0).sum())\n",
    "\n",
    "#Check rows that is not 0 in the difference column\n",
    "display((df_sat21[\"difference\"]!=0).sum())\n",
    "\n",
    "#Check rows that is not 0 in the difference column\n",
    "display(df_sat21.loc[df_sat21[\"difference\"]!=0])"
   ]
  },
  {
   "cell_type": "markdown",
   "metadata": {},
   "source": [
    "The difference results will be ignored as it is insignificance to affect our results."
   ]
  },
  {
   "cell_type": "code",
   "execution_count": 40,
   "metadata": {},
   "outputs": [
    {
     "data": {
      "text/html": [
       "<div>\n",
       "<style scoped>\n",
       "    .dataframe tbody tr th:only-of-type {\n",
       "        vertical-align: middle;\n",
       "    }\n",
       "\n",
       "    .dataframe tbody tr th {\n",
       "        vertical-align: top;\n",
       "    }\n",
       "\n",
       "    .dataframe thead th {\n",
       "        text-align: right;\n",
       "    }\n",
       "</style>\n",
       "<table border=\"1\" class=\"dataframe\">\n",
       "  <thead>\n",
       "    <tr style=\"text-align: right;\">\n",
       "      <th></th>\n",
       "      <th>State</th>\n",
       "      <th>Participation</th>\n",
       "      <th>Total</th>\n",
       "    </tr>\n",
       "  </thead>\n",
       "  <tbody>\n",
       "    <tr>\n",
       "      <th>0</th>\n",
       "      <td>National</td>\n",
       "      <td>0.411281</td>\n",
       "      <td>1060</td>\n",
       "    </tr>\n",
       "    <tr>\n",
       "      <th>1</th>\n",
       "      <td>Alabama</td>\n",
       "      <td>0.030000</td>\n",
       "      <td>1159</td>\n",
       "    </tr>\n",
       "    <tr>\n",
       "      <th>2</th>\n",
       "      <td>Alaska</td>\n",
       "      <td>0.230000</td>\n",
       "      <td>1119</td>\n",
       "    </tr>\n",
       "    <tr>\n",
       "      <th>3</th>\n",
       "      <td>Arizona</td>\n",
       "      <td>0.110000</td>\n",
       "      <td>1181</td>\n",
       "    </tr>\n",
       "    <tr>\n",
       "      <th>4</th>\n",
       "      <td>Arkansas</td>\n",
       "      <td>0.020000</td>\n",
       "      <td>1194</td>\n",
       "    </tr>\n",
       "  </tbody>\n",
       "</table>\n",
       "</div>"
      ],
      "text/plain": [
       "       State  Participation  Total\n",
       "0   National       0.411281   1060\n",
       "1   Alabama        0.030000   1159\n",
       "2    Alaska        0.230000   1119\n",
       "3   Arizona        0.110000   1181\n",
       "4  Arkansas        0.020000   1194"
      ]
     },
     "metadata": {},
     "output_type": "display_data"
    },
    {
     "data": {
      "text/html": [
       "<div>\n",
       "<style scoped>\n",
       "    .dataframe tbody tr th:only-of-type {\n",
       "        vertical-align: middle;\n",
       "    }\n",
       "\n",
       "    .dataframe tbody tr th {\n",
       "        vertical-align: top;\n",
       "    }\n",
       "\n",
       "    .dataframe thead th {\n",
       "        text-align: right;\n",
       "    }\n",
       "</style>\n",
       "<table border=\"1\" class=\"dataframe\">\n",
       "  <thead>\n",
       "    <tr style=\"text-align: right;\">\n",
       "      <th></th>\n",
       "      <th>State</th>\n",
       "      <th>Participation</th>\n",
       "      <th>Total</th>\n",
       "    </tr>\n",
       "  </thead>\n",
       "  <tbody>\n",
       "    <tr>\n",
       "      <th>47</th>\n",
       "      <td>Virginia</td>\n",
       "      <td>0.41</td>\n",
       "      <td>1151</td>\n",
       "    </tr>\n",
       "    <tr>\n",
       "      <th>48</th>\n",
       "      <td>Washington</td>\n",
       "      <td>0.27</td>\n",
       "      <td>1072</td>\n",
       "    </tr>\n",
       "    <tr>\n",
       "      <th>49</th>\n",
       "      <td>West Virginia</td>\n",
       "      <td>0.45</td>\n",
       "      <td>1007</td>\n",
       "    </tr>\n",
       "    <tr>\n",
       "      <th>50</th>\n",
       "      <td>Wisconsin</td>\n",
       "      <td>0.01</td>\n",
       "      <td>1215</td>\n",
       "    </tr>\n",
       "    <tr>\n",
       "      <th>51</th>\n",
       "      <td>Wyoming</td>\n",
       "      <td>0.02</td>\n",
       "      <td>1233</td>\n",
       "    </tr>\n",
       "  </tbody>\n",
       "</table>\n",
       "</div>"
      ],
      "text/plain": [
       "             State  Participation  Total\n",
       "47       Virginia            0.41   1151\n",
       "48     Washington            0.27   1072\n",
       "49  West Virginia            0.45   1007\n",
       "50      Wisconsin            0.01   1215\n",
       "51        Wyoming            0.02   1233"
      ]
     },
     "metadata": {},
     "output_type": "display_data"
    }
   ],
   "source": [
    "#Hide unwanted columns\n",
    "df_sat21_subset=df_sat21[[\"State\",\"Participation\",\"Total\"]]\n",
    "\n",
    "#Check results by printing the first and last 5 rows\n",
    "display(df_sat21_subset.head())\n",
    "display(df_sat21_subset.tail())"
   ]
  },
  {
   "cell_type": "code",
   "execution_count": 41,
   "metadata": {},
   "outputs": [
    {
     "data": {
      "text/html": [
       "<div>\n",
       "<style scoped>\n",
       "    .dataframe tbody tr th:only-of-type {\n",
       "        vertical-align: middle;\n",
       "    }\n",
       "\n",
       "    .dataframe tbody tr th {\n",
       "        vertical-align: top;\n",
       "    }\n",
       "\n",
       "    .dataframe thead th {\n",
       "        text-align: right;\n",
       "    }\n",
       "</style>\n",
       "<table border=\"1\" class=\"dataframe\">\n",
       "  <thead>\n",
       "    <tr style=\"text-align: right;\">\n",
       "      <th></th>\n",
       "      <th>state</th>\n",
       "      <th>p_rate_21</th>\n",
       "      <th>total_21</th>\n",
       "    </tr>\n",
       "  </thead>\n",
       "  <tbody>\n",
       "    <tr>\n",
       "      <th>0</th>\n",
       "      <td>National</td>\n",
       "      <td>0.411281</td>\n",
       "      <td>1060</td>\n",
       "    </tr>\n",
       "    <tr>\n",
       "      <th>1</th>\n",
       "      <td>Alabama</td>\n",
       "      <td>0.030000</td>\n",
       "      <td>1159</td>\n",
       "    </tr>\n",
       "    <tr>\n",
       "      <th>2</th>\n",
       "      <td>Alaska</td>\n",
       "      <td>0.230000</td>\n",
       "      <td>1119</td>\n",
       "    </tr>\n",
       "    <tr>\n",
       "      <th>3</th>\n",
       "      <td>Arizona</td>\n",
       "      <td>0.110000</td>\n",
       "      <td>1181</td>\n",
       "    </tr>\n",
       "    <tr>\n",
       "      <th>4</th>\n",
       "      <td>Arkansas</td>\n",
       "      <td>0.020000</td>\n",
       "      <td>1194</td>\n",
       "    </tr>\n",
       "  </tbody>\n",
       "</table>\n",
       "</div>"
      ],
      "text/plain": [
       "      state  p_rate_21  total_21\n",
       "0  National   0.411281      1060\n",
       "1   Alabama   0.030000      1159\n",
       "2    Alaska   0.230000      1119\n",
       "3   Arizona   0.110000      1181\n",
       "4  Arkansas   0.020000      1194"
      ]
     },
     "metadata": {},
     "output_type": "display_data"
    },
    {
     "data": {
      "text/html": [
       "<div>\n",
       "<style scoped>\n",
       "    .dataframe tbody tr th:only-of-type {\n",
       "        vertical-align: middle;\n",
       "    }\n",
       "\n",
       "    .dataframe tbody tr th {\n",
       "        vertical-align: top;\n",
       "    }\n",
       "\n",
       "    .dataframe thead th {\n",
       "        text-align: right;\n",
       "    }\n",
       "</style>\n",
       "<table border=\"1\" class=\"dataframe\">\n",
       "  <thead>\n",
       "    <tr style=\"text-align: right;\">\n",
       "      <th></th>\n",
       "      <th>state</th>\n",
       "      <th>p_rate_21</th>\n",
       "      <th>total_21</th>\n",
       "    </tr>\n",
       "  </thead>\n",
       "  <tbody>\n",
       "    <tr>\n",
       "      <th>47</th>\n",
       "      <td>Virginia</td>\n",
       "      <td>0.41</td>\n",
       "      <td>1151</td>\n",
       "    </tr>\n",
       "    <tr>\n",
       "      <th>48</th>\n",
       "      <td>Washington</td>\n",
       "      <td>0.27</td>\n",
       "      <td>1072</td>\n",
       "    </tr>\n",
       "    <tr>\n",
       "      <th>49</th>\n",
       "      <td>West Virginia</td>\n",
       "      <td>0.45</td>\n",
       "      <td>1007</td>\n",
       "    </tr>\n",
       "    <tr>\n",
       "      <th>50</th>\n",
       "      <td>Wisconsin</td>\n",
       "      <td>0.01</td>\n",
       "      <td>1215</td>\n",
       "    </tr>\n",
       "    <tr>\n",
       "      <th>51</th>\n",
       "      <td>Wyoming</td>\n",
       "      <td>0.02</td>\n",
       "      <td>1233</td>\n",
       "    </tr>\n",
       "  </tbody>\n",
       "</table>\n",
       "</div>"
      ],
      "text/plain": [
       "            state  p_rate_21  total_21\n",
       "47       Virginia       0.41      1151\n",
       "48     Washington       0.27      1072\n",
       "49  West Virginia       0.45      1007\n",
       "50      Wisconsin       0.01      1215\n",
       "51        Wyoming       0.02      1233"
      ]
     },
     "metadata": {},
     "output_type": "display_data"
    }
   ],
   "source": [
    "#Rename columns\n",
    "\n",
    "df_sat21_subset.columns=df_sat21_subset.columns.str.lower()\n",
    "df_sat21_subset_copy=df_sat21_subset.copy()\n",
    "df21_sub=df_sat21_subset_copy.rename(columns={\"participation\": \"p_rate_21\",\n",
    "                                              \"total\":\"total_21\"})\n",
    "df21_sub[\"state\"] = df21_sub[\"state\"].map(lambda x: x.strip())\n",
    "\n",
    "#Display results\n",
    "display(df21_sub.head())\n",
    "display(df21_sub.tail())"
   ]
  },
  {
   "cell_type": "markdown",
   "metadata": {},
   "source": [
    "#### Merging datasets"
   ]
  },
  {
   "cell_type": "code",
   "execution_count": 42,
   "metadata": {},
   "outputs": [
    {
     "data": {
      "text/html": [
       "<div>\n",
       "<style scoped>\n",
       "    .dataframe tbody tr th:only-of-type {\n",
       "        vertical-align: middle;\n",
       "    }\n",
       "\n",
       "    .dataframe tbody tr th {\n",
       "        vertical-align: top;\n",
       "    }\n",
       "\n",
       "    .dataframe thead th {\n",
       "        text-align: right;\n",
       "    }\n",
       "</style>\n",
       "<table border=\"1\" class=\"dataframe\">\n",
       "  <thead>\n",
       "    <tr style=\"text-align: right;\">\n",
       "      <th></th>\n",
       "      <th>state</th>\n",
       "      <th>p_rate_19</th>\n",
       "      <th>total_19</th>\n",
       "      <th>p_rate_20</th>\n",
       "      <th>total_20</th>\n",
       "      <th>p_rate_21</th>\n",
       "      <th>total_21</th>\n",
       "      <th>dropout_rate</th>\n",
       "    </tr>\n",
       "  </thead>\n",
       "  <tbody>\n",
       "    <tr>\n",
       "      <th>0</th>\n",
       "      <td>Alabama</td>\n",
       "      <td>0.07</td>\n",
       "      <td>1143.0</td>\n",
       "      <td>0.07</td>\n",
       "      <td>1127.0</td>\n",
       "      <td>0.03</td>\n",
       "      <td>1159.0</td>\n",
       "      <td>0.248</td>\n",
       "    </tr>\n",
       "    <tr>\n",
       "      <th>1</th>\n",
       "      <td>Alaska</td>\n",
       "      <td>0.41</td>\n",
       "      <td>1097.0</td>\n",
       "      <td>0.37</td>\n",
       "      <td>1098.0</td>\n",
       "      <td>0.23</td>\n",
       "      <td>1119.0</td>\n",
       "      <td>0.439</td>\n",
       "    </tr>\n",
       "    <tr>\n",
       "      <th>2</th>\n",
       "      <td>Arizona</td>\n",
       "      <td>0.31</td>\n",
       "      <td>1134.0</td>\n",
       "      <td>0.29</td>\n",
       "      <td>1139.0</td>\n",
       "      <td>0.11</td>\n",
       "      <td>1181.0</td>\n",
       "      <td>0.441</td>\n",
       "    </tr>\n",
       "    <tr>\n",
       "      <th>3</th>\n",
       "      <td>Arkansas</td>\n",
       "      <td>0.06</td>\n",
       "      <td>1141.0</td>\n",
       "      <td>0.04</td>\n",
       "      <td>1157.0</td>\n",
       "      <td>0.02</td>\n",
       "      <td>1194.0</td>\n",
       "      <td>0.397</td>\n",
       "    </tr>\n",
       "    <tr>\n",
       "      <th>4</th>\n",
       "      <td>California</td>\n",
       "      <td>0.63</td>\n",
       "      <td>1065.0</td>\n",
       "      <td>0.67</td>\n",
       "      <td>1049.0</td>\n",
       "      <td>0.24</td>\n",
       "      <td>1057.0</td>\n",
       "      <td>0.302</td>\n",
       "    </tr>\n",
       "  </tbody>\n",
       "</table>\n",
       "</div>"
      ],
      "text/plain": [
       "        state  p_rate_19  total_19  p_rate_20  total_20  p_rate_21  total_21  \\\n",
       "0     Alabama       0.07    1143.0       0.07    1127.0       0.03    1159.0   \n",
       "1      Alaska       0.41    1097.0       0.37    1098.0       0.23    1119.0   \n",
       "2     Arizona       0.31    1134.0       0.29    1139.0       0.11    1181.0   \n",
       "3    Arkansas       0.06    1141.0       0.04    1157.0       0.02    1194.0   \n",
       "4  California       0.63    1065.0       0.67    1049.0       0.24    1057.0   \n",
       "\n",
       "   dropout_rate  \n",
       "0         0.248  \n",
       "1         0.439  \n",
       "2         0.441  \n",
       "3         0.397  \n",
       "4         0.302  "
      ]
     },
     "metadata": {},
     "output_type": "display_data"
    },
    {
     "data": {
      "text/html": [
       "<div>\n",
       "<style scoped>\n",
       "    .dataframe tbody tr th:only-of-type {\n",
       "        vertical-align: middle;\n",
       "    }\n",
       "\n",
       "    .dataframe tbody tr th {\n",
       "        vertical-align: top;\n",
       "    }\n",
       "\n",
       "    .dataframe thead th {\n",
       "        text-align: right;\n",
       "    }\n",
       "</style>\n",
       "<table border=\"1\" class=\"dataframe\">\n",
       "  <thead>\n",
       "    <tr style=\"text-align: right;\">\n",
       "      <th></th>\n",
       "      <th>state</th>\n",
       "      <th>p_rate_19</th>\n",
       "      <th>total_19</th>\n",
       "      <th>p_rate_20</th>\n",
       "      <th>total_20</th>\n",
       "      <th>p_rate_21</th>\n",
       "      <th>total_21</th>\n",
       "      <th>dropout_rate</th>\n",
       "    </tr>\n",
       "  </thead>\n",
       "  <tbody>\n",
       "    <tr>\n",
       "      <th>51</th>\n",
       "      <td>National</td>\n",
       "      <td>NaN</td>\n",
       "      <td>NaN</td>\n",
       "      <td>0.6047</td>\n",
       "      <td>1051.0</td>\n",
       "      <td>0.411281</td>\n",
       "      <td>1060.0</td>\n",
       "      <td>NaN</td>\n",
       "    </tr>\n",
       "    <tr>\n",
       "      <th>52</th>\n",
       "      <td>D.C</td>\n",
       "      <td>NaN</td>\n",
       "      <td>NaN</td>\n",
       "      <td>NaN</td>\n",
       "      <td>NaN</td>\n",
       "      <td>NaN</td>\n",
       "      <td>NaN</td>\n",
       "      <td>0.415</td>\n",
       "    </tr>\n",
       "    <tr>\n",
       "      <th>53</th>\n",
       "      <td>U.S. Territories</td>\n",
       "      <td>NaN</td>\n",
       "      <td>NaN</td>\n",
       "      <td>NaN</td>\n",
       "      <td>NaN</td>\n",
       "      <td>NaN</td>\n",
       "      <td>NaN</td>\n",
       "      <td>0.727</td>\n",
       "    </tr>\n",
       "    <tr>\n",
       "      <th>54</th>\n",
       "      <td>Multi State</td>\n",
       "      <td>NaN</td>\n",
       "      <td>NaN</td>\n",
       "      <td>NaN</td>\n",
       "      <td>NaN</td>\n",
       "      <td>NaN</td>\n",
       "      <td>NaN</td>\n",
       "      <td>0.406</td>\n",
       "    </tr>\n",
       "    <tr>\n",
       "      <th>55</th>\n",
       "      <td>POIs</td>\n",
       "      <td>NaN</td>\n",
       "      <td>NaN</td>\n",
       "      <td>NaN</td>\n",
       "      <td>NaN</td>\n",
       "      <td>NaN</td>\n",
       "      <td>NaN</td>\n",
       "      <td>0.251</td>\n",
       "    </tr>\n",
       "  </tbody>\n",
       "</table>\n",
       "</div>"
      ],
      "text/plain": [
       "               state  p_rate_19  total_19  p_rate_20  total_20  p_rate_21  \\\n",
       "51          National        NaN       NaN     0.6047    1051.0   0.411281   \n",
       "52               D.C        NaN       NaN        NaN       NaN        NaN   \n",
       "53  U.S. Territories        NaN       NaN        NaN       NaN        NaN   \n",
       "54       Multi State        NaN       NaN        NaN       NaN        NaN   \n",
       "55              POIs        NaN       NaN        NaN       NaN        NaN   \n",
       "\n",
       "    total_21  dropout_rate  \n",
       "51    1060.0           NaN  \n",
       "52       NaN         0.415  \n",
       "53       NaN         0.727  \n",
       "54       NaN         0.406  \n",
       "55       NaN         0.251  "
      ]
     },
     "metadata": {},
     "output_type": "display_data"
    }
   ],
   "source": [
    "df=reduce(lambda x,y: pd.merge(x,y, on='state', how='outer'), [df19_sub,df20_sub,df21_sub,dropout_rates])\n",
    "display(df.head())\n",
    "display(df.tail())"
   ]
  },
  {
   "cell_type": "code",
   "execution_count": 43,
   "metadata": {},
   "outputs": [
    {
     "data": {
      "text/plain": [
       "state           0\n",
       "p_rate_19       5\n",
       "total_19        5\n",
       "p_rate_20       4\n",
       "total_20        4\n",
       "p_rate_21       4\n",
       "total_21        4\n",
       "dropout_rate    2\n",
       "dtype: int64"
      ]
     },
     "metadata": {},
     "output_type": "display_data"
    },
    {
     "data": {
      "text/html": [
       "<div>\n",
       "<style scoped>\n",
       "    .dataframe tbody tr th:only-of-type {\n",
       "        vertical-align: middle;\n",
       "    }\n",
       "\n",
       "    .dataframe tbody tr th {\n",
       "        vertical-align: top;\n",
       "    }\n",
       "\n",
       "    .dataframe thead th {\n",
       "        text-align: right;\n",
       "    }\n",
       "</style>\n",
       "<table border=\"1\" class=\"dataframe\">\n",
       "  <thead>\n",
       "    <tr style=\"text-align: right;\">\n",
       "      <th></th>\n",
       "      <th>state</th>\n",
       "      <th>p_rate_19</th>\n",
       "      <th>total_19</th>\n",
       "      <th>p_rate_20</th>\n",
       "      <th>total_20</th>\n",
       "      <th>p_rate_21</th>\n",
       "      <th>total_21</th>\n",
       "      <th>dropout_rate</th>\n",
       "    </tr>\n",
       "  </thead>\n",
       "  <tbody>\n",
       "    <tr>\n",
       "      <th>8</th>\n",
       "      <td>District of Columbia</td>\n",
       "      <td>0.94</td>\n",
       "      <td>975.0</td>\n",
       "      <td>1.0000</td>\n",
       "      <td>979.0</td>\n",
       "      <td>0.900000</td>\n",
       "      <td>987.0</td>\n",
       "      <td>NaN</td>\n",
       "    </tr>\n",
       "    <tr>\n",
       "      <th>51</th>\n",
       "      <td>National</td>\n",
       "      <td>NaN</td>\n",
       "      <td>NaN</td>\n",
       "      <td>0.6047</td>\n",
       "      <td>1051.0</td>\n",
       "      <td>0.411281</td>\n",
       "      <td>1060.0</td>\n",
       "      <td>NaN</td>\n",
       "    </tr>\n",
       "    <tr>\n",
       "      <th>52</th>\n",
       "      <td>D.C</td>\n",
       "      <td>NaN</td>\n",
       "      <td>NaN</td>\n",
       "      <td>NaN</td>\n",
       "      <td>NaN</td>\n",
       "      <td>NaN</td>\n",
       "      <td>NaN</td>\n",
       "      <td>0.415</td>\n",
       "    </tr>\n",
       "    <tr>\n",
       "      <th>53</th>\n",
       "      <td>U.S. Territories</td>\n",
       "      <td>NaN</td>\n",
       "      <td>NaN</td>\n",
       "      <td>NaN</td>\n",
       "      <td>NaN</td>\n",
       "      <td>NaN</td>\n",
       "      <td>NaN</td>\n",
       "      <td>0.727</td>\n",
       "    </tr>\n",
       "    <tr>\n",
       "      <th>54</th>\n",
       "      <td>Multi State</td>\n",
       "      <td>NaN</td>\n",
       "      <td>NaN</td>\n",
       "      <td>NaN</td>\n",
       "      <td>NaN</td>\n",
       "      <td>NaN</td>\n",
       "      <td>NaN</td>\n",
       "      <td>0.406</td>\n",
       "    </tr>\n",
       "    <tr>\n",
       "      <th>55</th>\n",
       "      <td>POIs</td>\n",
       "      <td>NaN</td>\n",
       "      <td>NaN</td>\n",
       "      <td>NaN</td>\n",
       "      <td>NaN</td>\n",
       "      <td>NaN</td>\n",
       "      <td>NaN</td>\n",
       "      <td>0.251</td>\n",
       "    </tr>\n",
       "  </tbody>\n",
       "</table>\n",
       "</div>"
      ],
      "text/plain": [
       "                   state  p_rate_19  total_19  p_rate_20  total_20  p_rate_21  \\\n",
       "8   District of Columbia       0.94     975.0     1.0000     979.0   0.900000   \n",
       "51              National        NaN       NaN     0.6047    1051.0   0.411281   \n",
       "52                   D.C        NaN       NaN        NaN       NaN        NaN   \n",
       "53      U.S. Territories        NaN       NaN        NaN       NaN        NaN   \n",
       "54           Multi State        NaN       NaN        NaN       NaN        NaN   \n",
       "55                  POIs        NaN       NaN        NaN       NaN        NaN   \n",
       "\n",
       "    total_21  dropout_rate  \n",
       "8      987.0           NaN  \n",
       "51    1060.0           NaN  \n",
       "52       NaN         0.415  \n",
       "53       NaN         0.727  \n",
       "54       NaN         0.406  \n",
       "55       NaN         0.251  "
      ]
     },
     "metadata": {},
     "output_type": "display_data"
    }
   ],
   "source": [
    "#Find missing data\n",
    "null_data = df[df.isnull().any(axis=1)]\n",
    "\n",
    "#Sum of the number of null data\n",
    "display(df.isnull().sum())\n",
    "\n",
    "#Display missing data\n",
    "display(null_data)"
   ]
  },
  {
   "cell_type": "code",
   "execution_count": 44,
   "metadata": {},
   "outputs": [
    {
     "data": {
      "text/html": [
       "<div>\n",
       "<style scoped>\n",
       "    .dataframe tbody tr th:only-of-type {\n",
       "        vertical-align: middle;\n",
       "    }\n",
       "\n",
       "    .dataframe tbody tr th {\n",
       "        vertical-align: top;\n",
       "    }\n",
       "\n",
       "    .dataframe thead th {\n",
       "        text-align: right;\n",
       "    }\n",
       "</style>\n",
       "<table border=\"1\" class=\"dataframe\">\n",
       "  <thead>\n",
       "    <tr style=\"text-align: right;\">\n",
       "      <th></th>\n",
       "      <th>state</th>\n",
       "      <th>p_rate_19</th>\n",
       "      <th>total_19</th>\n",
       "      <th>p_rate_20</th>\n",
       "      <th>total_20</th>\n",
       "      <th>p_rate_21</th>\n",
       "      <th>total_21</th>\n",
       "      <th>dropout_rate</th>\n",
       "    </tr>\n",
       "  </thead>\n",
       "  <tbody>\n",
       "    <tr>\n",
       "      <th>0</th>\n",
       "      <td>Alabama</td>\n",
       "      <td>0.07</td>\n",
       "      <td>1143.0</td>\n",
       "      <td>0.07</td>\n",
       "      <td>1127.0</td>\n",
       "      <td>0.03</td>\n",
       "      <td>1159.0</td>\n",
       "      <td>0.248</td>\n",
       "    </tr>\n",
       "    <tr>\n",
       "      <th>1</th>\n",
       "      <td>Alaska</td>\n",
       "      <td>0.41</td>\n",
       "      <td>1097.0</td>\n",
       "      <td>0.37</td>\n",
       "      <td>1098.0</td>\n",
       "      <td>0.23</td>\n",
       "      <td>1119.0</td>\n",
       "      <td>0.439</td>\n",
       "    </tr>\n",
       "    <tr>\n",
       "      <th>2</th>\n",
       "      <td>Arizona</td>\n",
       "      <td>0.31</td>\n",
       "      <td>1134.0</td>\n",
       "      <td>0.29</td>\n",
       "      <td>1139.0</td>\n",
       "      <td>0.11</td>\n",
       "      <td>1181.0</td>\n",
       "      <td>0.441</td>\n",
       "    </tr>\n",
       "    <tr>\n",
       "      <th>3</th>\n",
       "      <td>Arkansas</td>\n",
       "      <td>0.06</td>\n",
       "      <td>1141.0</td>\n",
       "      <td>0.04</td>\n",
       "      <td>1157.0</td>\n",
       "      <td>0.02</td>\n",
       "      <td>1194.0</td>\n",
       "      <td>0.397</td>\n",
       "    </tr>\n",
       "    <tr>\n",
       "      <th>4</th>\n",
       "      <td>California</td>\n",
       "      <td>0.63</td>\n",
       "      <td>1065.0</td>\n",
       "      <td>0.67</td>\n",
       "      <td>1049.0</td>\n",
       "      <td>0.24</td>\n",
       "      <td>1057.0</td>\n",
       "      <td>0.302</td>\n",
       "    </tr>\n",
       "  </tbody>\n",
       "</table>\n",
       "</div>"
      ],
      "text/plain": [
       "        state  p_rate_19  total_19  p_rate_20  total_20  p_rate_21  total_21  \\\n",
       "0     Alabama       0.07    1143.0       0.07    1127.0       0.03    1159.0   \n",
       "1      Alaska       0.41    1097.0       0.37    1098.0       0.23    1119.0   \n",
       "2     Arizona       0.31    1134.0       0.29    1139.0       0.11    1181.0   \n",
       "3    Arkansas       0.06    1141.0       0.04    1157.0       0.02    1194.0   \n",
       "4  California       0.63    1065.0       0.67    1049.0       0.24    1057.0   \n",
       "\n",
       "   dropout_rate  \n",
       "0         0.248  \n",
       "1         0.439  \n",
       "2         0.441  \n",
       "3         0.397  \n",
       "4         0.302  "
      ]
     },
     "metadata": {},
     "output_type": "display_data"
    },
    {
     "data": {
      "text/plain": [
       "state           0\n",
       "p_rate_19       0\n",
       "total_19        0\n",
       "p_rate_20       0\n",
       "total_20        0\n",
       "p_rate_21       0\n",
       "total_21        0\n",
       "dropout_rate    0\n",
       "dtype: int64"
      ]
     },
     "metadata": {},
     "output_type": "display_data"
    }
   ],
   "source": [
    "#Remove missing data row\n",
    "df=df.dropna()\n",
    "\n",
    "#Display results\n",
    "display(df.head())\n",
    "\n",
    "#Check results if it has removed the rows\n",
    "display(df.isnull().sum())"
   ]
  },
  {
   "cell_type": "code",
   "execution_count": 45,
   "metadata": {},
   "outputs": [],
   "source": [
    "#save file as csv\n",
    "df.to_csv(\"clean_N_merged.csv\",index=False)"
   ]
  },
  {
   "cell_type": "markdown",
   "metadata": {},
   "source": [
    "## Data Dictionary"
   ]
  },
  {
   "cell_type": "markdown",
   "metadata": {},
   "source": [
    "|Feature|Type|Dataset|Description|\n",
    "|---|---|---|---|\n",
    "|**state**|object|SAT 2019|The state of United States.| \n",
    "|**p_rate_19**|float64|SAT 2019|The participation rate of the state for the SAT score(units percent to two decimal places 0.07 means 7%).| \n",
    "|**total_19**|int64|SAT 2019|The total SAT score of the state which consist of Math and Evidence-Based Reading and Writing (EBRW).| \n",
    "|**p_rate_20**|float64|SAT 2020|The participation rate of the state for the SAT score(units percent to two decimal places 0.07 means 7%).| \n",
    "|**total_20**|int64|SAT 2020|The total SAT score of the state which consist of Math and Evidence-Based Reading and Writing (EBRW).| \n",
    "|**p_rate_21**|float64|SAT 2021|The participation rate of the state for the SAT score(units percent to two decimal places 0.07 means 7%).| \n",
    "|**total_21**|int64|SAT 2021|The total SAT score of the state which consist of Math and Evidence-Based Reading and Writing (EBRW).| \n",
    "|**dropout_rate**|float64|[Source](https://educationdata.org/college-dropout-rates)|The drop out rate from university of the state (units percent to three decimal places 0.248 means 24.8%).| \n"
   ]
  },
  {
   "cell_type": "markdown",
   "metadata": {},
   "source": [
    "## Exploratory Data Analysis"
   ]
  },
  {
   "cell_type": "markdown",
   "metadata": {},
   "source": [
    "### Summary Stats"
   ]
  },
  {
   "cell_type": "code",
   "execution_count": 46,
   "metadata": {},
   "outputs": [
    {
     "data": {
      "text/html": [
       "<div>\n",
       "<style scoped>\n",
       "    .dataframe tbody tr th:only-of-type {\n",
       "        vertical-align: middle;\n",
       "    }\n",
       "\n",
       "    .dataframe tbody tr th {\n",
       "        vertical-align: top;\n",
       "    }\n",
       "\n",
       "    .dataframe thead th {\n",
       "        text-align: right;\n",
       "    }\n",
       "</style>\n",
       "<table border=\"1\" class=\"dataframe\">\n",
       "  <thead>\n",
       "    <tr style=\"text-align: right;\">\n",
       "      <th></th>\n",
       "      <th>p_rate_19</th>\n",
       "      <th>total_19</th>\n",
       "      <th>p_rate_20</th>\n",
       "      <th>total_20</th>\n",
       "      <th>p_rate_21</th>\n",
       "      <th>total_21</th>\n",
       "      <th>dropout_rate</th>\n",
       "    </tr>\n",
       "  </thead>\n",
       "  <tbody>\n",
       "    <tr>\n",
       "      <th>count</th>\n",
       "      <td>50.000000</td>\n",
       "      <td>50.000000</td>\n",
       "      <td>50.000000</td>\n",
       "      <td>50.000000</td>\n",
       "      <td>50.000000</td>\n",
       "      <td>50.000000</td>\n",
       "      <td>50.000000</td>\n",
       "    </tr>\n",
       "    <tr>\n",
       "      <th>mean</th>\n",
       "      <td>0.481600</td>\n",
       "      <td>1115.840000</td>\n",
       "      <td>0.476800</td>\n",
       "      <td>1102.780000</td>\n",
       "      <td>0.298200</td>\n",
       "      <td>1125.720000</td>\n",
       "      <td>0.354420</td>\n",
       "    </tr>\n",
       "    <tr>\n",
       "      <th>std</th>\n",
       "      <td>0.386002</td>\n",
       "      <td>96.142403</td>\n",
       "      <td>0.386187</td>\n",
       "      <td>88.433831</td>\n",
       "      <td>0.280238</td>\n",
       "      <td>87.075159</td>\n",
       "      <td>0.063358</td>\n",
       "    </tr>\n",
       "    <tr>\n",
       "      <th>min</th>\n",
       "      <td>0.020000</td>\n",
       "      <td>943.000000</td>\n",
       "      <td>0.020000</td>\n",
       "      <td>936.000000</td>\n",
       "      <td>0.010000</td>\n",
       "      <td>984.000000</td>\n",
       "      <td>0.227000</td>\n",
       "    </tr>\n",
       "    <tr>\n",
       "      <th>25%</th>\n",
       "      <td>0.052500</td>\n",
       "      <td>1049.000000</td>\n",
       "      <td>0.042500</td>\n",
       "      <td>1031.500000</td>\n",
       "      <td>0.022500</td>\n",
       "      <td>1057.000000</td>\n",
       "      <td>0.313750</td>\n",
       "    </tr>\n",
       "    <tr>\n",
       "      <th>50%</th>\n",
       "      <td>0.525000</td>\n",
       "      <td>1098.500000</td>\n",
       "      <td>0.510000</td>\n",
       "      <td>1095.500000</td>\n",
       "      <td>0.250000</td>\n",
       "      <td>1123.500000</td>\n",
       "      <td>0.353500</td>\n",
       "    </tr>\n",
       "    <tr>\n",
       "      <th>75%</th>\n",
       "      <td>0.817500</td>\n",
       "      <td>1215.000000</td>\n",
       "      <td>0.815000</td>\n",
       "      <td>1185.750000</td>\n",
       "      <td>0.477500</td>\n",
       "      <td>1211.750000</td>\n",
       "      <td>0.378250</td>\n",
       "    </tr>\n",
       "    <tr>\n",
       "      <th>max</th>\n",
       "      <td>1.000000</td>\n",
       "      <td>1284.000000</td>\n",
       "      <td>1.000000</td>\n",
       "      <td>1257.000000</td>\n",
       "      <td>0.960000</td>\n",
       "      <td>1263.000000</td>\n",
       "      <td>0.537000</td>\n",
       "    </tr>\n",
       "  </tbody>\n",
       "</table>\n",
       "</div>"
      ],
      "text/plain": [
       "       p_rate_19     total_19  p_rate_20     total_20  p_rate_21     total_21  \\\n",
       "count  50.000000    50.000000  50.000000    50.000000  50.000000    50.000000   \n",
       "mean    0.481600  1115.840000   0.476800  1102.780000   0.298200  1125.720000   \n",
       "std     0.386002    96.142403   0.386187    88.433831   0.280238    87.075159   \n",
       "min     0.020000   943.000000   0.020000   936.000000   0.010000   984.000000   \n",
       "25%     0.052500  1049.000000   0.042500  1031.500000   0.022500  1057.000000   \n",
       "50%     0.525000  1098.500000   0.510000  1095.500000   0.250000  1123.500000   \n",
       "75%     0.817500  1215.000000   0.815000  1185.750000   0.477500  1211.750000   \n",
       "max     1.000000  1284.000000   1.000000  1257.000000   0.960000  1263.000000   \n",
       "\n",
       "       dropout_rate  \n",
       "count     50.000000  \n",
       "mean       0.354420  \n",
       "std        0.063358  \n",
       "min        0.227000  \n",
       "25%        0.313750  \n",
       "50%        0.353500  \n",
       "75%        0.378250  \n",
       "max        0.537000  "
      ]
     },
     "metadata": {},
     "output_type": "display_data"
    }
   ],
   "source": [
    "display(df.describe())"
   ]
  },
  {
   "cell_type": "markdown",
   "metadata": {},
   "source": [
    "### Usage of Dictionary Comprehension to apply standard deviation function"
   ]
  },
  {
   "cell_type": "code",
   "execution_count": 47,
   "metadata": {},
   "outputs": [
    {
     "data": {
      "text/plain": [
       "{'p_rate_19': 0.38,\n",
       " 'total_19': 95.18,\n",
       " 'p_rate_20': 0.38,\n",
       " 'total_20': 87.55,\n",
       " 'p_rate_21': 0.28,\n",
       " 'total_21': 86.2,\n",
       " 'dropout_rate': 0.06}"
      ]
     },
     "metadata": {},
     "output_type": "display_data"
    }
   ],
   "source": [
    "sd=dict(df.select_dtypes(include=[\"int64\",\"float\"]).apply(standard_dev).round(2))\n",
    "\n",
    "#Display Results\n",
    "display(sd)"
   ]
  },
  {
   "cell_type": "markdown",
   "metadata": {},
   "source": [
    "### Which states have the highest and lowest participation rates for the 2019 SAT?"
   ]
  },
  {
   "cell_type": "code",
   "execution_count": 48,
   "metadata": {},
   "outputs": [
    {
     "data": {
      "text/html": [
       "<div>\n",
       "<style scoped>\n",
       "    .dataframe tbody tr th:only-of-type {\n",
       "        vertical-align: middle;\n",
       "    }\n",
       "\n",
       "    .dataframe tbody tr th {\n",
       "        vertical-align: top;\n",
       "    }\n",
       "\n",
       "    .dataframe thead th {\n",
       "        text-align: right;\n",
       "    }\n",
       "</style>\n",
       "<table border=\"1\" class=\"dataframe\">\n",
       "  <thead>\n",
       "    <tr style=\"text-align: right;\">\n",
       "      <th></th>\n",
       "      <th>state</th>\n",
       "      <th>p_rate_19</th>\n",
       "    </tr>\n",
       "  </thead>\n",
       "  <tbody>\n",
       "    <tr>\n",
       "      <th>22</th>\n",
       "      <td>Michigan</td>\n",
       "      <td>1.0</td>\n",
       "    </tr>\n",
       "    <tr>\n",
       "      <th>5</th>\n",
       "      <td>Colorado</td>\n",
       "      <td>1.0</td>\n",
       "    </tr>\n",
       "    <tr>\n",
       "      <th>6</th>\n",
       "      <td>Connecticut</td>\n",
       "      <td>1.0</td>\n",
       "    </tr>\n",
       "    <tr>\n",
       "      <th>7</th>\n",
       "      <td>Delaware</td>\n",
       "      <td>1.0</td>\n",
       "    </tr>\n",
       "    <tr>\n",
       "      <th>9</th>\n",
       "      <td>Florida</td>\n",
       "      <td>1.0</td>\n",
       "    </tr>\n",
       "    <tr>\n",
       "      <th>12</th>\n",
       "      <td>Idaho</td>\n",
       "      <td>1.0</td>\n",
       "    </tr>\n",
       "    <tr>\n",
       "      <th>13</th>\n",
       "      <td>Illinois</td>\n",
       "      <td>1.0</td>\n",
       "    </tr>\n",
       "    <tr>\n",
       "      <th>39</th>\n",
       "      <td>Rhode Island</td>\n",
       "      <td>1.0</td>\n",
       "    </tr>\n",
       "  </tbody>\n",
       "</table>\n",
       "</div>"
      ],
      "text/plain": [
       "           state  p_rate_19\n",
       "22      Michigan        1.0\n",
       "5       Colorado        1.0\n",
       "6    Connecticut        1.0\n",
       "7       Delaware        1.0\n",
       "9        Florida        1.0\n",
       "12         Idaho        1.0\n",
       "13      Illinois        1.0\n",
       "39  Rhode Island        1.0"
      ]
     },
     "metadata": {},
     "output_type": "display_data"
    },
    {
     "data": {
      "text/html": [
       "<div>\n",
       "<style scoped>\n",
       "    .dataframe tbody tr th:only-of-type {\n",
       "        vertical-align: middle;\n",
       "    }\n",
       "\n",
       "    .dataframe tbody tr th {\n",
       "        vertical-align: top;\n",
       "    }\n",
       "\n",
       "    .dataframe thead th {\n",
       "        text-align: right;\n",
       "    }\n",
       "</style>\n",
       "<table border=\"1\" class=\"dataframe\">\n",
       "  <thead>\n",
       "    <tr style=\"text-align: right;\">\n",
       "      <th></th>\n",
       "      <th>state</th>\n",
       "      <th>p_rate_19</th>\n",
       "    </tr>\n",
       "  </thead>\n",
       "  <tbody>\n",
       "    <tr>\n",
       "      <th>34</th>\n",
       "      <td>North Dakota</td>\n",
       "      <td>0.02</td>\n",
       "    </tr>\n",
       "  </tbody>\n",
       "</table>\n",
       "</div>"
      ],
      "text/plain": [
       "           state  p_rate_19\n",
       "34  North Dakota       0.02"
      ]
     },
     "metadata": {},
     "output_type": "display_data"
    }
   ],
   "source": [
    "cols=list(df.columns)\n",
    "p_19_states=df[cols[0:2]]\n",
    "\n",
    "#highest participation rates in 2019 SAT\n",
    "display(p_19_states.sort_values([\"p_rate_19\"], ascending=[False]).head(8))\n",
    "\n",
    "#lowest participation rates in 2019 SAT\n",
    "display(p_19_states.sort_values([\"p_rate_19\"], ascending=[True]).head(1))"
   ]
  },
  {
   "cell_type": "markdown",
   "metadata": {},
   "source": [
    "The highest participation rates in 2019 SAT are the following states :\n",
    "- Michigan\t\n",
    "- Colorado\n",
    "- Connecticut\n",
    "- Delaware\n",
    "- Florida\n",
    "- Idaho\n",
    "- Illinois\n",
    "- Rhode Island"
   ]
  },
  {
   "cell_type": "markdown",
   "metadata": {},
   "source": [
    "The lowest participation rates in 2019 SAT are the following states :\n",
    "- North Dakota"
   ]
  },
  {
   "cell_type": "markdown",
   "metadata": {},
   "source": [
    "### Which states have the highest and lowest participation rates for the 2020 SAT?"
   ]
  },
  {
   "cell_type": "code",
   "execution_count": 49,
   "metadata": {},
   "outputs": [
    {
     "data": {
      "text/html": [
       "<div>\n",
       "<style scoped>\n",
       "    .dataframe tbody tr th:only-of-type {\n",
       "        vertical-align: middle;\n",
       "    }\n",
       "\n",
       "    .dataframe tbody tr th {\n",
       "        vertical-align: top;\n",
       "    }\n",
       "\n",
       "    .dataframe thead th {\n",
       "        text-align: right;\n",
       "    }\n",
       "</style>\n",
       "<table border=\"1\" class=\"dataframe\">\n",
       "  <thead>\n",
       "    <tr style=\"text-align: right;\">\n",
       "      <th></th>\n",
       "      <th>state</th>\n",
       "      <th>p_rate_20</th>\n",
       "    </tr>\n",
       "  </thead>\n",
       "  <tbody>\n",
       "    <tr>\n",
       "      <th>39</th>\n",
       "      <td>Rhode Island</td>\n",
       "      <td>1.0</td>\n",
       "    </tr>\n",
       "    <tr>\n",
       "      <th>5</th>\n",
       "      <td>Colorado</td>\n",
       "      <td>1.0</td>\n",
       "    </tr>\n",
       "    <tr>\n",
       "      <th>6</th>\n",
       "      <td>Connecticut</td>\n",
       "      <td>1.0</td>\n",
       "    </tr>\n",
       "    <tr>\n",
       "      <th>7</th>\n",
       "      <td>Delaware</td>\n",
       "      <td>1.0</td>\n",
       "    </tr>\n",
       "    <tr>\n",
       "      <th>9</th>\n",
       "      <td>Florida</td>\n",
       "      <td>1.0</td>\n",
       "    </tr>\n",
       "    <tr>\n",
       "      <th>22</th>\n",
       "      <td>Michigan</td>\n",
       "      <td>1.0</td>\n",
       "    </tr>\n",
       "    <tr>\n",
       "      <th>12</th>\n",
       "      <td>Idaho</td>\n",
       "      <td>1.0</td>\n",
       "    </tr>\n",
       "  </tbody>\n",
       "</table>\n",
       "</div>"
      ],
      "text/plain": [
       "           state  p_rate_20\n",
       "39  Rhode Island        1.0\n",
       "5       Colorado        1.0\n",
       "6    Connecticut        1.0\n",
       "7       Delaware        1.0\n",
       "9        Florida        1.0\n",
       "22      Michigan        1.0\n",
       "12         Idaho        1.0"
      ]
     },
     "metadata": {},
     "output_type": "display_data"
    },
    {
     "data": {
      "text/html": [
       "<div>\n",
       "<style scoped>\n",
       "    .dataframe tbody tr th:only-of-type {\n",
       "        vertical-align: middle;\n",
       "    }\n",
       "\n",
       "    .dataframe tbody tr th {\n",
       "        vertical-align: top;\n",
       "    }\n",
       "\n",
       "    .dataframe thead th {\n",
       "        text-align: right;\n",
       "    }\n",
       "</style>\n",
       "<table border=\"1\" class=\"dataframe\">\n",
       "  <thead>\n",
       "    <tr style=\"text-align: right;\">\n",
       "      <th></th>\n",
       "      <th>state</th>\n",
       "      <th>p_rate_20</th>\n",
       "    </tr>\n",
       "  </thead>\n",
       "  <tbody>\n",
       "    <tr>\n",
       "      <th>50</th>\n",
       "      <td>Wyoming</td>\n",
       "      <td>0.02</td>\n",
       "    </tr>\n",
       "    <tr>\n",
       "      <th>34</th>\n",
       "      <td>North Dakota</td>\n",
       "      <td>0.02</td>\n",
       "    </tr>\n",
       "  </tbody>\n",
       "</table>\n",
       "</div>"
      ],
      "text/plain": [
       "           state  p_rate_20\n",
       "50       Wyoming       0.02\n",
       "34  North Dakota       0.02"
      ]
     },
     "metadata": {},
     "output_type": "display_data"
    }
   ],
   "source": [
    "cols=list(df.columns)\n",
    "p_20_states=df[cols[0:1]+[cols[3]]]\n",
    "\n",
    "#highest participation rates in 2020 SAT\n",
    "display(p_20_states.sort_values([\"p_rate_20\"], ascending=[False]).head(7))\n",
    "\n",
    "#lowest participation rates in 2019 SAT\n",
    "display(p_20_states.sort_values([\"p_rate_20\"], ascending=[True]).head(2))"
   ]
  },
  {
   "cell_type": "markdown",
   "metadata": {},
   "source": [
    "The highest participation rates in 2020 SAT are the following states :\n",
    "- Rhode Island\n",
    "- Colorado\n",
    "- Connecticut\n",
    "- Delaware\n",
    "- Florida\n",
    "- Michigan\n",
    "- Idaho"
   ]
  },
  {
   "cell_type": "markdown",
   "metadata": {},
   "source": [
    "The lowest participation rates in 2020 SAT are the following states :\n",
    "- Wyoming\n",
    "- North Dakota"
   ]
  },
  {
   "cell_type": "markdown",
   "metadata": {},
   "source": [
    "### Which states have the highest and lowest participation rates for the 2021 SAT?"
   ]
  },
  {
   "cell_type": "code",
   "execution_count": 50,
   "metadata": {},
   "outputs": [
    {
     "data": {
      "text/html": [
       "<div>\n",
       "<style scoped>\n",
       "    .dataframe tbody tr th:only-of-type {\n",
       "        vertical-align: middle;\n",
       "    }\n",
       "\n",
       "    .dataframe tbody tr th {\n",
       "        vertical-align: top;\n",
       "    }\n",
       "\n",
       "    .dataframe thead th {\n",
       "        text-align: right;\n",
       "    }\n",
       "</style>\n",
       "<table border=\"1\" class=\"dataframe\">\n",
       "  <thead>\n",
       "    <tr style=\"text-align: right;\">\n",
       "      <th></th>\n",
       "      <th>state</th>\n",
       "      <th>p_rate_21</th>\n",
       "    </tr>\n",
       "  </thead>\n",
       "  <tbody>\n",
       "    <tr>\n",
       "      <th>7</th>\n",
       "      <td>Delaware</td>\n",
       "      <td>0.96</td>\n",
       "    </tr>\n",
       "  </tbody>\n",
       "</table>\n",
       "</div>"
      ],
      "text/plain": [
       "      state  p_rate_21\n",
       "7  Delaware       0.96"
      ]
     },
     "metadata": {},
     "output_type": "display_data"
    },
    {
     "data": {
      "text/html": [
       "<div>\n",
       "<style scoped>\n",
       "    .dataframe tbody tr th:only-of-type {\n",
       "        vertical-align: middle;\n",
       "    }\n",
       "\n",
       "    .dataframe tbody tr th {\n",
       "        vertical-align: top;\n",
       "    }\n",
       "\n",
       "    .dataframe thead th {\n",
       "        text-align: right;\n",
       "    }\n",
       "</style>\n",
       "<table border=\"1\" class=\"dataframe\">\n",
       "  <thead>\n",
       "    <tr style=\"text-align: right;\">\n",
       "      <th></th>\n",
       "      <th>state</th>\n",
       "      <th>p_rate_21</th>\n",
       "    </tr>\n",
       "  </thead>\n",
       "  <tbody>\n",
       "    <tr>\n",
       "      <th>44</th>\n",
       "      <td>Utah</td>\n",
       "      <td>0.01</td>\n",
       "    </tr>\n",
       "    <tr>\n",
       "      <th>41</th>\n",
       "      <td>South Dakota</td>\n",
       "      <td>0.01</td>\n",
       "    </tr>\n",
       "    <tr>\n",
       "      <th>34</th>\n",
       "      <td>North Dakota</td>\n",
       "      <td>0.01</td>\n",
       "    </tr>\n",
       "    <tr>\n",
       "      <th>49</th>\n",
       "      <td>Wisconsin</td>\n",
       "      <td>0.01</td>\n",
       "    </tr>\n",
       "    <tr>\n",
       "      <th>24</th>\n",
       "      <td>Mississippi</td>\n",
       "      <td>0.01</td>\n",
       "    </tr>\n",
       "  </tbody>\n",
       "</table>\n",
       "</div>"
      ],
      "text/plain": [
       "           state  p_rate_21\n",
       "44          Utah       0.01\n",
       "41  South Dakota       0.01\n",
       "34  North Dakota       0.01\n",
       "49     Wisconsin       0.01\n",
       "24   Mississippi       0.01"
      ]
     },
     "metadata": {},
     "output_type": "display_data"
    }
   ],
   "source": [
    "cols=list(df.columns)\n",
    "p_21_states=df[cols[0:1]+[cols[5]]]\n",
    "\n",
    "#highest participation rates in 2021 SAT\n",
    "display(p_21_states.sort_values([\"p_rate_21\"], ascending=[False]).head(1))\n",
    "\n",
    "#lowest participation rates in 2019 SAT\n",
    "display(p_21_states.sort_values([\"p_rate_21\"], ascending=[True]).head())"
   ]
  },
  {
   "cell_type": "markdown",
   "metadata": {},
   "source": [
    "The highest participation rates in 2021 SAT are the following states :\n",
    "- Delaware\t"
   ]
  },
  {
   "cell_type": "markdown",
   "metadata": {},
   "source": [
    "The lowest participation rates in 2021 SAT are the following states :\n",
    "- Utah\n",
    "- South Dakota\n",
    "- North Dakota\n",
    "- Wisconsin\n",
    "- Mississipp"
   ]
  },
  {
   "cell_type": "markdown",
   "metadata": {},
   "source": [
    "The reason that the rates differ from year to year might be due to the pandamic that occur in 2020."
   ]
  },
  {
   "cell_type": "markdown",
   "metadata": {},
   "source": [
    "### Which states have the highest and lowest total scores for the 2019 SAT?"
   ]
  },
  {
   "cell_type": "code",
   "execution_count": 51,
   "metadata": {
    "scrolled": true
   },
   "outputs": [
    {
     "data": {
      "text/html": [
       "<div>\n",
       "<style scoped>\n",
       "    .dataframe tbody tr th:only-of-type {\n",
       "        vertical-align: middle;\n",
       "    }\n",
       "\n",
       "    .dataframe tbody tr th {\n",
       "        vertical-align: top;\n",
       "    }\n",
       "\n",
       "    .dataframe thead th {\n",
       "        text-align: right;\n",
       "    }\n",
       "</style>\n",
       "<table border=\"1\" class=\"dataframe\">\n",
       "  <thead>\n",
       "    <tr style=\"text-align: right;\">\n",
       "      <th></th>\n",
       "      <th>state</th>\n",
       "      <th>total_19</th>\n",
       "    </tr>\n",
       "  </thead>\n",
       "  <tbody>\n",
       "    <tr>\n",
       "      <th>23</th>\n",
       "      <td>Minnesota</td>\n",
       "      <td>1284.0</td>\n",
       "    </tr>\n",
       "  </tbody>\n",
       "</table>\n",
       "</div>"
      ],
      "text/plain": [
       "        state  total_19\n",
       "23  Minnesota    1284.0"
      ]
     },
     "metadata": {},
     "output_type": "display_data"
    },
    {
     "data": {
      "text/html": [
       "<div>\n",
       "<style scoped>\n",
       "    .dataframe tbody tr th:only-of-type {\n",
       "        vertical-align: middle;\n",
       "    }\n",
       "\n",
       "    .dataframe tbody tr th {\n",
       "        vertical-align: top;\n",
       "    }\n",
       "\n",
       "    .dataframe thead th {\n",
       "        text-align: right;\n",
       "    }\n",
       "</style>\n",
       "<table border=\"1\" class=\"dataframe\">\n",
       "  <thead>\n",
       "    <tr style=\"text-align: right;\">\n",
       "      <th></th>\n",
       "      <th>state</th>\n",
       "      <th>total_19</th>\n",
       "    </tr>\n",
       "  </thead>\n",
       "  <tbody>\n",
       "    <tr>\n",
       "      <th>48</th>\n",
       "      <td>West Virginia</td>\n",
       "      <td>943.0</td>\n",
       "    </tr>\n",
       "  </tbody>\n",
       "</table>\n",
       "</div>"
      ],
      "text/plain": [
       "            state  total_19\n",
       "48  West Virginia     943.0"
      ]
     },
     "metadata": {},
     "output_type": "display_data"
    }
   ],
   "source": [
    "tscore_19=df[cols[0:1]+[cols[2]]]\n",
    "\n",
    "#highest total score in 2019 SAT\n",
    "display(tscore_19.sort_values([\"total_19\"], ascending=[False]).head(1))\n",
    "\n",
    "#lowest total score in 2019 SAT\n",
    "display(tscore_19.sort_values([\"total_19\"], ascending=[True]).head(1))"
   ]
  },
  {
   "cell_type": "markdown",
   "metadata": {},
   "source": [
    "The highest total score in 2019 SAT is Minnesota with a total score of 1284."
   ]
  },
  {
   "cell_type": "markdown",
   "metadata": {},
   "source": [
    "The lowest total score in 2019 SAT is West Virginia with a total score of 943."
   ]
  },
  {
   "cell_type": "code",
   "execution_count": 52,
   "metadata": {},
   "outputs": [
    {
     "data": {
      "text/html": [
       "<div>\n",
       "<style scoped>\n",
       "    .dataframe tbody tr th:only-of-type {\n",
       "        vertical-align: middle;\n",
       "    }\n",
       "\n",
       "    .dataframe tbody tr th {\n",
       "        vertical-align: top;\n",
       "    }\n",
       "\n",
       "    .dataframe thead th {\n",
       "        text-align: right;\n",
       "    }\n",
       "</style>\n",
       "<table border=\"1\" class=\"dataframe\">\n",
       "  <thead>\n",
       "    <tr style=\"text-align: right;\">\n",
       "      <th></th>\n",
       "      <th>state</th>\n",
       "      <th>total_20</th>\n",
       "    </tr>\n",
       "  </thead>\n",
       "  <tbody>\n",
       "    <tr>\n",
       "      <th>23</th>\n",
       "      <td>Minnesota</td>\n",
       "      <td>1257.0</td>\n",
       "    </tr>\n",
       "  </tbody>\n",
       "</table>\n",
       "</div>"
      ],
      "text/plain": [
       "        state  total_20\n",
       "23  Minnesota    1257.0"
      ]
     },
     "metadata": {},
     "output_type": "display_data"
    },
    {
     "data": {
      "text/html": [
       "<div>\n",
       "<style scoped>\n",
       "    .dataframe tbody tr th:only-of-type {\n",
       "        vertical-align: middle;\n",
       "    }\n",
       "\n",
       "    .dataframe tbody tr th {\n",
       "        vertical-align: top;\n",
       "    }\n",
       "\n",
       "    .dataframe thead th {\n",
       "        text-align: right;\n",
       "    }\n",
       "</style>\n",
       "<table border=\"1\" class=\"dataframe\">\n",
       "  <thead>\n",
       "    <tr style=\"text-align: right;\">\n",
       "      <th></th>\n",
       "      <th>state</th>\n",
       "      <th>total_20</th>\n",
       "    </tr>\n",
       "  </thead>\n",
       "  <tbody>\n",
       "    <tr>\n",
       "      <th>48</th>\n",
       "      <td>West Virginia</td>\n",
       "      <td>936.0</td>\n",
       "    </tr>\n",
       "  </tbody>\n",
       "</table>\n",
       "</div>"
      ],
      "text/plain": [
       "            state  total_20\n",
       "48  West Virginia     936.0"
      ]
     },
     "metadata": {},
     "output_type": "display_data"
    }
   ],
   "source": [
    "#Which states have the highest and lowest total scores for the 2020 SAT?\n",
    "\n",
    "tscore_20=df[cols[0:1]+[cols[4]]]\n",
    "\n",
    "#highest total score in 2019 SAT\n",
    "display(tscore_20.sort_values([\"total_20\"], ascending=[False]).head(1))\n",
    "\n",
    "#lowest total score in 2019 SAT\n",
    "display(tscore_20.sort_values([\"total_20\"], ascending=[True]).head(1))"
   ]
  },
  {
   "cell_type": "markdown",
   "metadata": {},
   "source": [
    "The highest total score in 2020 SAT is Minnesota with a total score of 1257."
   ]
  },
  {
   "cell_type": "markdown",
   "metadata": {},
   "source": [
    "The lowest total score in 2020 SAT is West Virginia with a total score of 936."
   ]
  },
  {
   "cell_type": "markdown",
   "metadata": {},
   "source": [
    "### Which states have the highest and lowest total scores for the 2021 SAT?"
   ]
  },
  {
   "cell_type": "code",
   "execution_count": 53,
   "metadata": {},
   "outputs": [
    {
     "data": {
      "text/html": [
       "<div>\n",
       "<style scoped>\n",
       "    .dataframe tbody tr th:only-of-type {\n",
       "        vertical-align: middle;\n",
       "    }\n",
       "\n",
       "    .dataframe tbody tr th {\n",
       "        vertical-align: top;\n",
       "    }\n",
       "\n",
       "    .dataframe thead th {\n",
       "        text-align: right;\n",
       "    }\n",
       "</style>\n",
       "<table border=\"1\" class=\"dataframe\">\n",
       "  <thead>\n",
       "    <tr style=\"text-align: right;\">\n",
       "      <th></th>\n",
       "      <th>state</th>\n",
       "      <th>total_21</th>\n",
       "    </tr>\n",
       "  </thead>\n",
       "  <tbody>\n",
       "    <tr>\n",
       "      <th>23</th>\n",
       "      <td>Minnesota</td>\n",
       "      <td>1263.0</td>\n",
       "    </tr>\n",
       "  </tbody>\n",
       "</table>\n",
       "</div>"
      ],
      "text/plain": [
       "        state  total_21\n",
       "23  Minnesota    1263.0"
      ]
     },
     "metadata": {},
     "output_type": "display_data"
    },
    {
     "data": {
      "text/html": [
       "<div>\n",
       "<style scoped>\n",
       "    .dataframe tbody tr th:only-of-type {\n",
       "        vertical-align: middle;\n",
       "    }\n",
       "\n",
       "    .dataframe tbody tr th {\n",
       "        vertical-align: top;\n",
       "    }\n",
       "\n",
       "    .dataframe thead th {\n",
       "        text-align: right;\n",
       "    }\n",
       "</style>\n",
       "<table border=\"1\" class=\"dataframe\">\n",
       "  <thead>\n",
       "    <tr style=\"text-align: right;\">\n",
       "      <th></th>\n",
       "      <th>state</th>\n",
       "      <th>total_21</th>\n",
       "    </tr>\n",
       "  </thead>\n",
       "  <tbody>\n",
       "    <tr>\n",
       "      <th>7</th>\n",
       "      <td>Delaware</td>\n",
       "      <td>984.0</td>\n",
       "    </tr>\n",
       "  </tbody>\n",
       "</table>\n",
       "</div>"
      ],
      "text/plain": [
       "      state  total_21\n",
       "7  Delaware     984.0"
      ]
     },
     "metadata": {},
     "output_type": "display_data"
    }
   ],
   "source": [
    "tscore_21=df[cols[0:1]+[cols[6]]]\n",
    "\n",
    "#highest total score in 2019 SAT\n",
    "display(tscore_21.sort_values([\"total_21\"], ascending=[False]).head(1))\n",
    "\n",
    "#lowest total score in 2019 SAT\n",
    "display(tscore_21.sort_values([\"total_21\"], ascending=[True]).head(1))"
   ]
  },
  {
   "cell_type": "markdown",
   "metadata": {},
   "source": [
    "The highest total score in 2021 SAT is Minnesota with a total score of 1263."
   ]
  },
  {
   "cell_type": "markdown",
   "metadata": {},
   "source": [
    "The lowest total score in 2021 SAT is Delaware with a total score of 984."
   ]
  },
  {
   "cell_type": "markdown",
   "metadata": {},
   "source": [
    "### Do any states show have >50% participation on 2019 test?"
   ]
  },
  {
   "cell_type": "code",
   "execution_count": 54,
   "metadata": {},
   "outputs": [
    {
     "data": {
      "text/html": [
       "<div>\n",
       "<style scoped>\n",
       "    .dataframe tbody tr th:only-of-type {\n",
       "        vertical-align: middle;\n",
       "    }\n",
       "\n",
       "    .dataframe tbody tr th {\n",
       "        vertical-align: top;\n",
       "    }\n",
       "\n",
       "    .dataframe thead th {\n",
       "        text-align: right;\n",
       "    }\n",
       "</style>\n",
       "<table border=\"1\" class=\"dataframe\">\n",
       "  <thead>\n",
       "    <tr style=\"text-align: right;\">\n",
       "      <th></th>\n",
       "      <th>state</th>\n",
       "      <th>p_rate_19</th>\n",
       "    </tr>\n",
       "  </thead>\n",
       "  <tbody>\n",
       "    <tr>\n",
       "      <th>4</th>\n",
       "      <td>California</td>\n",
       "      <td>0.63</td>\n",
       "    </tr>\n",
       "    <tr>\n",
       "      <th>5</th>\n",
       "      <td>Colorado</td>\n",
       "      <td>1.00</td>\n",
       "    </tr>\n",
       "    <tr>\n",
       "      <th>6</th>\n",
       "      <td>Connecticut</td>\n",
       "      <td>1.00</td>\n",
       "    </tr>\n",
       "    <tr>\n",
       "      <th>7</th>\n",
       "      <td>Delaware</td>\n",
       "      <td>1.00</td>\n",
       "    </tr>\n",
       "    <tr>\n",
       "      <th>9</th>\n",
       "      <td>Florida</td>\n",
       "      <td>1.00</td>\n",
       "    </tr>\n",
       "    <tr>\n",
       "      <th>10</th>\n",
       "      <td>Georgia</td>\n",
       "      <td>0.71</td>\n",
       "    </tr>\n",
       "    <tr>\n",
       "      <th>11</th>\n",
       "      <td>Hawaii</td>\n",
       "      <td>0.54</td>\n",
       "    </tr>\n",
       "    <tr>\n",
       "      <th>12</th>\n",
       "      <td>Idaho</td>\n",
       "      <td>1.00</td>\n",
       "    </tr>\n",
       "    <tr>\n",
       "      <th>13</th>\n",
       "      <td>Illinois</td>\n",
       "      <td>1.00</td>\n",
       "    </tr>\n",
       "    <tr>\n",
       "      <th>14</th>\n",
       "      <td>Indiana</td>\n",
       "      <td>0.66</td>\n",
       "    </tr>\n",
       "    <tr>\n",
       "      <th>19</th>\n",
       "      <td>Maine</td>\n",
       "      <td>0.99</td>\n",
       "    </tr>\n",
       "    <tr>\n",
       "      <th>20</th>\n",
       "      <td>Maryland</td>\n",
       "      <td>0.82</td>\n",
       "    </tr>\n",
       "    <tr>\n",
       "      <th>21</th>\n",
       "      <td>Massachusetts</td>\n",
       "      <td>0.81</td>\n",
       "    </tr>\n",
       "    <tr>\n",
       "      <th>22</th>\n",
       "      <td>Michigan</td>\n",
       "      <td>1.00</td>\n",
       "    </tr>\n",
       "    <tr>\n",
       "      <th>29</th>\n",
       "      <td>New Hampshire</td>\n",
       "      <td>0.95</td>\n",
       "    </tr>\n",
       "    <tr>\n",
       "      <th>30</th>\n",
       "      <td>New Jersey</td>\n",
       "      <td>0.82</td>\n",
       "    </tr>\n",
       "    <tr>\n",
       "      <th>32</th>\n",
       "      <td>New York</td>\n",
       "      <td>0.79</td>\n",
       "    </tr>\n",
       "    <tr>\n",
       "      <th>33</th>\n",
       "      <td>North Carolina</td>\n",
       "      <td>0.51</td>\n",
       "    </tr>\n",
       "    <tr>\n",
       "      <th>37</th>\n",
       "      <td>Oregon</td>\n",
       "      <td>0.51</td>\n",
       "    </tr>\n",
       "    <tr>\n",
       "      <th>38</th>\n",
       "      <td>Pennsylvania</td>\n",
       "      <td>0.70</td>\n",
       "    </tr>\n",
       "    <tr>\n",
       "      <th>39</th>\n",
       "      <td>Rhode Island</td>\n",
       "      <td>1.00</td>\n",
       "    </tr>\n",
       "    <tr>\n",
       "      <th>40</th>\n",
       "      <td>South Carolina</td>\n",
       "      <td>0.68</td>\n",
       "    </tr>\n",
       "    <tr>\n",
       "      <th>43</th>\n",
       "      <td>Texas</td>\n",
       "      <td>0.68</td>\n",
       "    </tr>\n",
       "    <tr>\n",
       "      <th>45</th>\n",
       "      <td>Vermont</td>\n",
       "      <td>0.66</td>\n",
       "    </tr>\n",
       "    <tr>\n",
       "      <th>46</th>\n",
       "      <td>Virginia</td>\n",
       "      <td>0.68</td>\n",
       "    </tr>\n",
       "    <tr>\n",
       "      <th>47</th>\n",
       "      <td>Washington</td>\n",
       "      <td>0.70</td>\n",
       "    </tr>\n",
       "    <tr>\n",
       "      <th>48</th>\n",
       "      <td>West Virginia</td>\n",
       "      <td>0.99</td>\n",
       "    </tr>\n",
       "  </tbody>\n",
       "</table>\n",
       "</div>"
      ],
      "text/plain": [
       "             state  p_rate_19\n",
       "4       California       0.63\n",
       "5         Colorado       1.00\n",
       "6      Connecticut       1.00\n",
       "7         Delaware       1.00\n",
       "9          Florida       1.00\n",
       "10         Georgia       0.71\n",
       "11          Hawaii       0.54\n",
       "12           Idaho       1.00\n",
       "13        Illinois       1.00\n",
       "14         Indiana       0.66\n",
       "19           Maine       0.99\n",
       "20        Maryland       0.82\n",
       "21   Massachusetts       0.81\n",
       "22        Michigan       1.00\n",
       "29   New Hampshire       0.95\n",
       "30      New Jersey       0.82\n",
       "32        New York       0.79\n",
       "33  North Carolina       0.51\n",
       "37          Oregon       0.51\n",
       "38    Pennsylvania       0.70\n",
       "39    Rhode Island       1.00\n",
       "40  South Carolina       0.68\n",
       "43           Texas       0.68\n",
       "45         Vermont       0.66\n",
       "46        Virginia       0.68\n",
       "47      Washington       0.70\n",
       "48   West Virginia       0.99"
      ]
     },
     "metadata": {},
     "output_type": "display_data"
    },
    {
     "data": {
      "text/plain": [
       "state        27\n",
       "p_rate_19    27\n",
       "dtype: int64"
      ]
     },
     "metadata": {},
     "output_type": "display_data"
    }
   ],
   "source": [
    "display(p_19_states.loc[p_19_states['p_rate_19']> 0.5])\n",
    "\n",
    "#Count the nunmber of states that has >50%.\n",
    "display(p_19_states.loc[p_19_states['p_rate_19']> 0.5].count())"
   ]
  },
  {
   "cell_type": "markdown",
   "metadata": {},
   "source": [
    "There are a total of 27 states that has more than 50% participation on 2019 test."
   ]
  },
  {
   "cell_type": "markdown",
   "metadata": {},
   "source": [
    "### Do any states show have >50% participation on 2020 test?"
   ]
  },
  {
   "cell_type": "code",
   "execution_count": 55,
   "metadata": {},
   "outputs": [
    {
     "data": {
      "text/html": [
       "<div>\n",
       "<style scoped>\n",
       "    .dataframe tbody tr th:only-of-type {\n",
       "        vertical-align: middle;\n",
       "    }\n",
       "\n",
       "    .dataframe tbody tr th {\n",
       "        vertical-align: top;\n",
       "    }\n",
       "\n",
       "    .dataframe thead th {\n",
       "        text-align: right;\n",
       "    }\n",
       "</style>\n",
       "<table border=\"1\" class=\"dataframe\">\n",
       "  <thead>\n",
       "    <tr style=\"text-align: right;\">\n",
       "      <th></th>\n",
       "      <th>state</th>\n",
       "      <th>p_rate_20</th>\n",
       "    </tr>\n",
       "  </thead>\n",
       "  <tbody>\n",
       "    <tr>\n",
       "      <th>4</th>\n",
       "      <td>California</td>\n",
       "      <td>0.67</td>\n",
       "    </tr>\n",
       "    <tr>\n",
       "      <th>5</th>\n",
       "      <td>Colorado</td>\n",
       "      <td>1.00</td>\n",
       "    </tr>\n",
       "    <tr>\n",
       "      <th>6</th>\n",
       "      <td>Connecticut</td>\n",
       "      <td>1.00</td>\n",
       "    </tr>\n",
       "    <tr>\n",
       "      <th>7</th>\n",
       "      <td>Delaware</td>\n",
       "      <td>1.00</td>\n",
       "    </tr>\n",
       "    <tr>\n",
       "      <th>9</th>\n",
       "      <td>Florida</td>\n",
       "      <td>1.00</td>\n",
       "    </tr>\n",
       "    <tr>\n",
       "      <th>10</th>\n",
       "      <td>Georgia</td>\n",
       "      <td>0.68</td>\n",
       "    </tr>\n",
       "    <tr>\n",
       "      <th>11</th>\n",
       "      <td>Hawaii</td>\n",
       "      <td>0.51</td>\n",
       "    </tr>\n",
       "    <tr>\n",
       "      <th>12</th>\n",
       "      <td>Idaho</td>\n",
       "      <td>1.00</td>\n",
       "    </tr>\n",
       "    <tr>\n",
       "      <th>13</th>\n",
       "      <td>Illinois</td>\n",
       "      <td>0.98</td>\n",
       "    </tr>\n",
       "    <tr>\n",
       "      <th>14</th>\n",
       "      <td>Indiana</td>\n",
       "      <td>0.64</td>\n",
       "    </tr>\n",
       "    <tr>\n",
       "      <th>19</th>\n",
       "      <td>Maine</td>\n",
       "      <td>0.98</td>\n",
       "    </tr>\n",
       "    <tr>\n",
       "      <th>20</th>\n",
       "      <td>Maryland</td>\n",
       "      <td>0.88</td>\n",
       "    </tr>\n",
       "    <tr>\n",
       "      <th>21</th>\n",
       "      <td>Massachusetts</td>\n",
       "      <td>0.80</td>\n",
       "    </tr>\n",
       "    <tr>\n",
       "      <th>22</th>\n",
       "      <td>Michigan</td>\n",
       "      <td>1.00</td>\n",
       "    </tr>\n",
       "    <tr>\n",
       "      <th>29</th>\n",
       "      <td>New Hampshire</td>\n",
       "      <td>0.93</td>\n",
       "    </tr>\n",
       "    <tr>\n",
       "      <th>30</th>\n",
       "      <td>New Jersey</td>\n",
       "      <td>0.82</td>\n",
       "    </tr>\n",
       "    <tr>\n",
       "      <th>32</th>\n",
       "      <td>New York</td>\n",
       "      <td>0.79</td>\n",
       "    </tr>\n",
       "    <tr>\n",
       "      <th>37</th>\n",
       "      <td>Oregon</td>\n",
       "      <td>0.51</td>\n",
       "    </tr>\n",
       "    <tr>\n",
       "      <th>38</th>\n",
       "      <td>Pennsylvania</td>\n",
       "      <td>0.67</td>\n",
       "    </tr>\n",
       "    <tr>\n",
       "      <th>39</th>\n",
       "      <td>Rhode Island</td>\n",
       "      <td>1.00</td>\n",
       "    </tr>\n",
       "    <tr>\n",
       "      <th>40</th>\n",
       "      <td>South Carolina</td>\n",
       "      <td>0.68</td>\n",
       "    </tr>\n",
       "    <tr>\n",
       "      <th>43</th>\n",
       "      <td>Texas</td>\n",
       "      <td>0.73</td>\n",
       "    </tr>\n",
       "    <tr>\n",
       "      <th>45</th>\n",
       "      <td>Vermont</td>\n",
       "      <td>0.63</td>\n",
       "    </tr>\n",
       "    <tr>\n",
       "      <th>46</th>\n",
       "      <td>Virginia</td>\n",
       "      <td>0.65</td>\n",
       "    </tr>\n",
       "    <tr>\n",
       "      <th>47</th>\n",
       "      <td>Washington</td>\n",
       "      <td>0.69</td>\n",
       "    </tr>\n",
       "    <tr>\n",
       "      <th>48</th>\n",
       "      <td>West Virginia</td>\n",
       "      <td>0.98</td>\n",
       "    </tr>\n",
       "  </tbody>\n",
       "</table>\n",
       "</div>"
      ],
      "text/plain": [
       "             state  p_rate_20\n",
       "4       California       0.67\n",
       "5         Colorado       1.00\n",
       "6      Connecticut       1.00\n",
       "7         Delaware       1.00\n",
       "9          Florida       1.00\n",
       "10         Georgia       0.68\n",
       "11          Hawaii       0.51\n",
       "12           Idaho       1.00\n",
       "13        Illinois       0.98\n",
       "14         Indiana       0.64\n",
       "19           Maine       0.98\n",
       "20        Maryland       0.88\n",
       "21   Massachusetts       0.80\n",
       "22        Michigan       1.00\n",
       "29   New Hampshire       0.93\n",
       "30      New Jersey       0.82\n",
       "32        New York       0.79\n",
       "37          Oregon       0.51\n",
       "38    Pennsylvania       0.67\n",
       "39    Rhode Island       1.00\n",
       "40  South Carolina       0.68\n",
       "43           Texas       0.73\n",
       "45         Vermont       0.63\n",
       "46        Virginia       0.65\n",
       "47      Washington       0.69\n",
       "48   West Virginia       0.98"
      ]
     },
     "metadata": {},
     "output_type": "display_data"
    },
    {
     "data": {
      "text/plain": [
       "state        26\n",
       "p_rate_20    26\n",
       "dtype: int64"
      ]
     },
     "metadata": {},
     "output_type": "display_data"
    }
   ],
   "source": [
    "display(p_20_states.loc[p_20_states['p_rate_20']> 0.5])\n",
    "\n",
    "#Count the nunmber of states that has >50%.\n",
    "display(p_20_states.loc[p_20_states['p_rate_20']> 0.5].count())"
   ]
  },
  {
   "cell_type": "markdown",
   "metadata": {},
   "source": [
    "There are a total of 26 states that has more than 50% participation on 2020 test."
   ]
  },
  {
   "cell_type": "markdown",
   "metadata": {},
   "source": [
    "### Do any states show have >50% participation on 2021 test?"
   ]
  },
  {
   "cell_type": "code",
   "execution_count": 56,
   "metadata": {},
   "outputs": [
    {
     "data": {
      "text/html": [
       "<div>\n",
       "<style scoped>\n",
       "    .dataframe tbody tr th:only-of-type {\n",
       "        vertical-align: middle;\n",
       "    }\n",
       "\n",
       "    .dataframe tbody tr th {\n",
       "        vertical-align: top;\n",
       "    }\n",
       "\n",
       "    .dataframe thead th {\n",
       "        text-align: right;\n",
       "    }\n",
       "</style>\n",
       "<table border=\"1\" class=\"dataframe\">\n",
       "  <thead>\n",
       "    <tr style=\"text-align: right;\">\n",
       "      <th></th>\n",
       "      <th>state</th>\n",
       "      <th>p_rate_21</th>\n",
       "    </tr>\n",
       "  </thead>\n",
       "  <tbody>\n",
       "    <tr>\n",
       "      <th>5</th>\n",
       "      <td>Colorado</td>\n",
       "      <td>0.56</td>\n",
       "    </tr>\n",
       "    <tr>\n",
       "      <th>6</th>\n",
       "      <td>Connecticut</td>\n",
       "      <td>0.69</td>\n",
       "    </tr>\n",
       "    <tr>\n",
       "      <th>7</th>\n",
       "      <td>Delaware</td>\n",
       "      <td>0.96</td>\n",
       "    </tr>\n",
       "    <tr>\n",
       "      <th>9</th>\n",
       "      <td>Florida</td>\n",
       "      <td>0.81</td>\n",
       "    </tr>\n",
       "    <tr>\n",
       "      <th>12</th>\n",
       "      <td>Idaho</td>\n",
       "      <td>0.90</td>\n",
       "    </tr>\n",
       "    <tr>\n",
       "      <th>13</th>\n",
       "      <td>Illinois</td>\n",
       "      <td>0.80</td>\n",
       "    </tr>\n",
       "    <tr>\n",
       "      <th>22</th>\n",
       "      <td>Michigan</td>\n",
       "      <td>0.68</td>\n",
       "    </tr>\n",
       "    <tr>\n",
       "      <th>29</th>\n",
       "      <td>New Hampshire</td>\n",
       "      <td>0.71</td>\n",
       "    </tr>\n",
       "    <tr>\n",
       "      <th>32</th>\n",
       "      <td>New York</td>\n",
       "      <td>0.55</td>\n",
       "    </tr>\n",
       "    <tr>\n",
       "      <th>39</th>\n",
       "      <td>Rhode Island</td>\n",
       "      <td>0.68</td>\n",
       "    </tr>\n",
       "    <tr>\n",
       "      <th>43</th>\n",
       "      <td>Texas</td>\n",
       "      <td>0.59</td>\n",
       "    </tr>\n",
       "  </tbody>\n",
       "</table>\n",
       "</div>"
      ],
      "text/plain": [
       "            state  p_rate_21\n",
       "5        Colorado       0.56\n",
       "6     Connecticut       0.69\n",
       "7        Delaware       0.96\n",
       "9         Florida       0.81\n",
       "12          Idaho       0.90\n",
       "13       Illinois       0.80\n",
       "22       Michigan       0.68\n",
       "29  New Hampshire       0.71\n",
       "32       New York       0.55\n",
       "39   Rhode Island       0.68\n",
       "43          Texas       0.59"
      ]
     },
     "metadata": {},
     "output_type": "display_data"
    },
    {
     "data": {
      "text/plain": [
       "state        11\n",
       "p_rate_21    11\n",
       "dtype: int64"
      ]
     },
     "metadata": {},
     "output_type": "display_data"
    }
   ],
   "source": [
    "display(p_21_states.loc[p_21_states['p_rate_21']> 0.5])\n",
    "\n",
    "#Count the nunmber of states that has >50%.\n",
    "display(p_21_states.loc[p_21_states['p_rate_21']> 0.5].count())"
   ]
  },
  {
   "cell_type": "markdown",
   "metadata": {},
   "source": [
    "There are a total of 11 states that has more than 50% participation on 2021 test."
   ]
  },
  {
   "cell_type": "markdown",
   "metadata": {},
   "source": [
    "### Which states have the highest and lowest dropout rate?"
   ]
  },
  {
   "cell_type": "code",
   "execution_count": 57,
   "metadata": {},
   "outputs": [
    {
     "data": {
      "text/html": [
       "<div>\n",
       "<style scoped>\n",
       "    .dataframe tbody tr th:only-of-type {\n",
       "        vertical-align: middle;\n",
       "    }\n",
       "\n",
       "    .dataframe tbody tr th {\n",
       "        vertical-align: top;\n",
       "    }\n",
       "\n",
       "    .dataframe thead th {\n",
       "        text-align: right;\n",
       "    }\n",
       "</style>\n",
       "<table border=\"1\" class=\"dataframe\">\n",
       "  <thead>\n",
       "    <tr style=\"text-align: right;\">\n",
       "      <th></th>\n",
       "      <th>state</th>\n",
       "      <th>dropout_rate</th>\n",
       "    </tr>\n",
       "  </thead>\n",
       "  <tbody>\n",
       "    <tr>\n",
       "      <th>7</th>\n",
       "      <td>Delaware</td>\n",
       "      <td>0.537</td>\n",
       "    </tr>\n",
       "  </tbody>\n",
       "</table>\n",
       "</div>"
      ],
      "text/plain": [
       "      state  dropout_rate\n",
       "7  Delaware         0.537"
      ]
     },
     "metadata": {},
     "output_type": "display_data"
    },
    {
     "data": {
      "text/html": [
       "<div>\n",
       "<style scoped>\n",
       "    .dataframe tbody tr th:only-of-type {\n",
       "        vertical-align: middle;\n",
       "    }\n",
       "\n",
       "    .dataframe tbody tr th {\n",
       "        vertical-align: top;\n",
       "    }\n",
       "\n",
       "    .dataframe thead th {\n",
       "        text-align: right;\n",
       "    }\n",
       "</style>\n",
       "<table border=\"1\" class=\"dataframe\">\n",
       "  <thead>\n",
       "    <tr style=\"text-align: right;\">\n",
       "      <th></th>\n",
       "      <th>state</th>\n",
       "      <th>dropout_rate</th>\n",
       "    </tr>\n",
       "  </thead>\n",
       "  <tbody>\n",
       "    <tr>\n",
       "      <th>47</th>\n",
       "      <td>Washington</td>\n",
       "      <td>0.227</td>\n",
       "    </tr>\n",
       "  </tbody>\n",
       "</table>\n",
       "</div>"
      ],
      "text/plain": [
       "         state  dropout_rate\n",
       "47  Washington         0.227"
      ]
     },
     "metadata": {},
     "output_type": "display_data"
    }
   ],
   "source": [
    "dropout_states=df[cols[0:1]+[cols[-1]]]\n",
    "#highest dropout rate in states\n",
    "display(dropout_states.sort_values([\"dropout_rate\"], ascending=[False]).head(1))\n",
    "\n",
    "#lowest dropout rate in states\n",
    "display(dropout_states.sort_values([\"dropout_rate\"], ascending=[True]).head(1))"
   ]
  },
  {
   "cell_type": "markdown",
   "metadata": {},
   "source": [
    "The highest dropout rate occurs in Delaware with a 53.7% rate."
   ]
  },
  {
   "cell_type": "markdown",
   "metadata": {},
   "source": [
    "The lowest dropout rate occurs in Washington with a 22.7% rate."
   ]
  },
  {
   "cell_type": "markdown",
   "metadata": {},
   "source": [
    "## Data Visualization"
   ]
  },
  {
   "cell_type": "markdown",
   "metadata": {},
   "source": [
    "### Triangle Heatmap"
   ]
  },
  {
   "cell_type": "code",
   "execution_count": 58,
   "metadata": {},
   "outputs": [
    {
     "data": {
      "text/html": [
       "<div>\n",
       "<style scoped>\n",
       "    .dataframe tbody tr th:only-of-type {\n",
       "        vertical-align: middle;\n",
       "    }\n",
       "\n",
       "    .dataframe tbody tr th {\n",
       "        vertical-align: top;\n",
       "    }\n",
       "\n",
       "    .dataframe thead th {\n",
       "        text-align: right;\n",
       "    }\n",
       "</style>\n",
       "<table border=\"1\" class=\"dataframe\">\n",
       "  <thead>\n",
       "    <tr style=\"text-align: right;\">\n",
       "      <th></th>\n",
       "      <th>p_rate_19</th>\n",
       "      <th>total_19</th>\n",
       "      <th>p_rate_20</th>\n",
       "      <th>total_20</th>\n",
       "      <th>p_rate_21</th>\n",
       "      <th>total_21</th>\n",
       "      <th>dropout_rate</th>\n",
       "    </tr>\n",
       "  </thead>\n",
       "  <tbody>\n",
       "    <tr>\n",
       "      <th>p_rate_19</th>\n",
       "      <td>1.000000</td>\n",
       "      <td>-0.857615</td>\n",
       "      <td>0.998765</td>\n",
       "      <td>-0.857954</td>\n",
       "      <td>0.916063</td>\n",
       "      <td>-0.792155</td>\n",
       "      <td>0.123950</td>\n",
       "    </tr>\n",
       "    <tr>\n",
       "      <th>total_19</th>\n",
       "      <td>-0.857615</td>\n",
       "      <td>1.000000</td>\n",
       "      <td>-0.857120</td>\n",
       "      <td>0.993172</td>\n",
       "      <td>-0.801165</td>\n",
       "      <td>0.934301</td>\n",
       "      <td>-0.254430</td>\n",
       "    </tr>\n",
       "    <tr>\n",
       "      <th>p_rate_20</th>\n",
       "      <td>0.998765</td>\n",
       "      <td>-0.857120</td>\n",
       "      <td>1.000000</td>\n",
       "      <td>-0.860836</td>\n",
       "      <td>0.918502</td>\n",
       "      <td>-0.800154</td>\n",
       "      <td>0.120447</td>\n",
       "    </tr>\n",
       "    <tr>\n",
       "      <th>total_20</th>\n",
       "      <td>-0.857954</td>\n",
       "      <td>0.993172</td>\n",
       "      <td>-0.860836</td>\n",
       "      <td>1.000000</td>\n",
       "      <td>-0.807992</td>\n",
       "      <td>0.950272</td>\n",
       "      <td>-0.249985</td>\n",
       "    </tr>\n",
       "    <tr>\n",
       "      <th>p_rate_21</th>\n",
       "      <td>0.916063</td>\n",
       "      <td>-0.801165</td>\n",
       "      <td>0.918502</td>\n",
       "      <td>-0.807992</td>\n",
       "      <td>1.000000</td>\n",
       "      <td>-0.832086</td>\n",
       "      <td>0.258754</td>\n",
       "    </tr>\n",
       "    <tr>\n",
       "      <th>total_21</th>\n",
       "      <td>-0.792155</td>\n",
       "      <td>0.934301</td>\n",
       "      <td>-0.800154</td>\n",
       "      <td>0.950272</td>\n",
       "      <td>-0.832086</td>\n",
       "      <td>1.000000</td>\n",
       "      <td>-0.241470</td>\n",
       "    </tr>\n",
       "    <tr>\n",
       "      <th>dropout_rate</th>\n",
       "      <td>0.123950</td>\n",
       "      <td>-0.254430</td>\n",
       "      <td>0.120447</td>\n",
       "      <td>-0.249985</td>\n",
       "      <td>0.258754</td>\n",
       "      <td>-0.241470</td>\n",
       "      <td>1.000000</td>\n",
       "    </tr>\n",
       "  </tbody>\n",
       "</table>\n",
       "</div>"
      ],
      "text/plain": [
       "              p_rate_19  total_19  p_rate_20  total_20  p_rate_21  total_21  \\\n",
       "p_rate_19      1.000000 -0.857615   0.998765 -0.857954   0.916063 -0.792155   \n",
       "total_19      -0.857615  1.000000  -0.857120  0.993172  -0.801165  0.934301   \n",
       "p_rate_20      0.998765 -0.857120   1.000000 -0.860836   0.918502 -0.800154   \n",
       "total_20      -0.857954  0.993172  -0.860836  1.000000  -0.807992  0.950272   \n",
       "p_rate_21      0.916063 -0.801165   0.918502 -0.807992   1.000000 -0.832086   \n",
       "total_21      -0.792155  0.934301  -0.800154  0.950272  -0.832086  1.000000   \n",
       "dropout_rate   0.123950 -0.254430   0.120447 -0.249985   0.258754 -0.241470   \n",
       "\n",
       "              dropout_rate  \n",
       "p_rate_19         0.123950  \n",
       "total_19         -0.254430  \n",
       "p_rate_20         0.120447  \n",
       "total_20         -0.249985  \n",
       "p_rate_21         0.258754  \n",
       "total_21         -0.241470  \n",
       "dropout_rate      1.000000  "
      ]
     },
     "metadata": {},
     "output_type": "display_data"
    },
    {
     "data": {
      "image/png": "[encoded data removed]",
      "text/plain": [
       "<Figure size 640x480 with 2 Axes>"
      ]
     },
     "metadata": {},
     "output_type": "display_data"
    }
   ],
   "source": [
    "#Make the dataframe into matrix\n",
    "df_mx=df.corr()\n",
    "\n",
    "#Display results\n",
    "display(df_mx)\n",
    "\n",
    "#Creating mask\n",
    "mask = np.triu(np.ones_like(df.corr()))\n",
    " \n",
    "#Plotting a triangle correlation heatmap\n",
    "dataplot = sns.heatmap(df.corr(), cmap=\"YlGnBu\", annot=True, mask=mask)\n",
    "\n",
    "#Save photo\n",
    "plt.savefig('heatmap.png')\n",
    "\n",
    "# Show plots\n",
    "plt.show()"
   ]
  },
  {
   "cell_type": "markdown",
   "metadata": {},
   "source": [
    "From the triangle heatmap, it is observed that :\n",
    "- dropout rate is correlated to the total SAT Score to a certain extent.\n",
    "- the total SAT score from year to year are strongly correlated. \n",
    "- as the range of years of the total SAT score are closer to each other, the correlation between each other becomes stronger."
   ]
  },
  {
   "cell_type": "markdown",
   "metadata": {},
   "source": [
    "### Triangle Pair Gird"
   ]
  },
  {
   "cell_type": "code",
   "execution_count": 59,
   "metadata": {},
   "outputs": [
    {
     "data": {
      "image/png": "[encoded data removed]",
      "text/plain": [
       "<Figure size 1750x1750 with 35 Axes>"
      ]
     },
     "metadata": {},
     "output_type": "display_data"
    }
   ],
   "source": [
    "sns.pairplot(df,corner=True)\n",
    "#Save photo\n",
    "plt.savefig('Triangle_Pair_grid.png')\n",
    "\n",
    "# Show plots\n",
    "plt.show()"
   ]
  },
  {
   "cell_type": "markdown",
   "metadata": {},
   "source": [
    "From the pair plot, we are finding the relationships between different variables."
   ]
  },
  {
   "cell_type": "markdown",
   "metadata": {},
   "source": [
    "### Scattered Joint Plots"
   ]
  },
  {
   "cell_type": "code",
   "execution_count": 60,
   "metadata": {},
   "outputs": [
    {
     "data": {
      "image/png": "[encoded data removed]",
      "text/plain": [
       "<Figure size 600x600 with 3 Axes>"
      ]
     },
     "metadata": {},
     "output_type": "display_data"
    }
   ],
   "source": [
    "#Total Score in 2019 vs Dropout Rate\n",
    "sns.jointplot(x=\"dropout_rate\",y=\"total_19\",data=df,kind=\"reg\",ci=None)\n",
    "\n",
    "#Save photo\n",
    "plt.savefig('Scattered Joint Plots 2019.png')\n",
    "\n",
    "# Show plots\n",
    "plt.show()"
   ]
  },
  {
   "cell_type": "markdown",
   "metadata": {},
   "source": [
    "It is observed that as the total score in 2019 decreases, the dropout rate increases."
   ]
  },
  {
   "cell_type": "code",
   "execution_count": 61,
   "metadata": {},
   "outputs": [
    {
     "data": {
      "image/png": "[encoded data removed]",
      "text/plain": [
       "<Figure size 600x600 with 3 Axes>"
      ]
     },
     "metadata": {},
     "output_type": "display_data"
    }
   ],
   "source": [
    "#Total Score in 2020 vs Dropout Rate\n",
    "sns.jointplot(x=\"dropout_rate\",y=\"total_20\",data=df,kind=\"reg\",ci=None)\n",
    "\n",
    "#Save photo\n",
    "plt.savefig('Scattered Joint Plots 2020.png')\n",
    "\n",
    "# Show plots\n",
    "plt.show()"
   ]
  },
  {
   "cell_type": "markdown",
   "metadata": {},
   "source": [
    "It is observed that as the total score in 2020 decreases, the dropout rate increases."
   ]
  },
  {
   "cell_type": "code",
   "execution_count": 62,
   "metadata": {},
   "outputs": [
    {
     "data": {
      "image/png": "[encoded data removed]",
      "text/plain": [
       "<Figure size 600x600 with 3 Axes>"
      ]
     },
     "metadata": {},
     "output_type": "display_data"
    }
   ],
   "source": [
    "#Total Score in 2021 vs Dropout Rate\n",
    "sns.jointplot(x=\"dropout_rate\",y=\"total_21\",data=df,kind=\"reg\",ci=None)\n",
    "#Save photo\n",
    "plt.savefig('Scattered Joint Plots 2021.png')\n",
    "\n",
    "# Show plots\n",
    "plt.show()"
   ]
  },
  {
   "cell_type": "markdown",
   "metadata": {},
   "source": [
    "It is observed that as the total score in 2021 decreases, the dropout rate increases."
   ]
  },
  {
   "cell_type": "markdown",
   "metadata": {},
   "source": [
    "### Density Plot"
   ]
  },
  {
   "cell_type": "code",
   "execution_count": 63,
   "metadata": {},
   "outputs": [
    {
     "data": {
      "image/png": "[encoded data removed]",
      "text/plain": [
       "<Figure size 1280x800 with 1 Axes>"
      ]
     },
     "metadata": {},
     "output_type": "display_data"
    }
   ],
   "source": [
    "plt.figure(figsize=(16,10), dpi= 80)\n",
    "sns.kdeplot(df[\"total_19\"], shade=True, color=\"g\", label=\"Total 2019 Score\", alpha=.7)\n",
    "sns.kdeplot(df[\"total_20\"], shade=True, color=\"deeppink\", label=\"Total 2020 Score\", alpha=.7)\n",
    "sns.kdeplot(df[\"total_21\"], shade=True, color=\"dodgerblue\", label=\"Total 2021 Score\", alpha=.7)\n",
    "\n",
    "\n",
    "# Decoration\n",
    "plt.title('Density Plot of total score', fontsize=22)\n",
    "plt.xlabel(\"Total Score\")\n",
    "plt.legend()\n",
    "plt.show()"
   ]
  },
  {
   "cell_type": "markdown",
   "metadata": {},
   "source": [
    "Density plot is a probability density function of the variable. It is a smoothed version of the histogram and is used in the same concept.\n",
    "As seen in the density plot, the density in 2019,2020 and 2021 the most frequenly score is the 1170,1150 and 1240 respectively.\n",
    "<br>\n",
    "As observed in the graph above, the density plot shape starts to change after year 2020. There exist a possibility that the pandamic that occur in 2020 might have causes the change. Further analysis and future data are required to confirm the change. "
   ]
  },
  {
   "cell_type": "code",
   "execution_count": 64,
   "metadata": {},
   "outputs": [],
   "source": [
    "#confidence inverval function\n",
    "def mean_confidence_interval(data, confidence=0.95):\n",
    "    a = 1.0 * np.array(data)\n",
    "    n = len(a)\n",
    "    m, se = np.mean(a), sps.sem(a)\n",
    "    h = se * sps.t.ppf((1 + confidence) / 2., n-1)\n",
    "    return m.round(3), (m-h).round(3), (m+h).round(3)"
   ]
  },
  {
   "cell_type": "code",
   "execution_count": 65,
   "metadata": {},
   "outputs": [
    {
     "data": {
      "text/plain": [
       "(0.354, 0.336, 0.372)"
      ]
     },
     "execution_count": 65,
     "metadata": {},
     "output_type": "execute_result"
    }
   ],
   "source": [
    "#confidence interval at 95% for drop out\n",
    "mean_confidence_interval(df[\"dropout_rate\"])"
   ]
  },
  {
   "cell_type": "markdown",
   "metadata": {},
   "source": [
    "The confidence interval at 95% for drop out is 35.4% to 37.2%."
   ]
  },
  {
   "cell_type": "markdown",
   "metadata": {},
   "source": [
    "## Conclusions & Recommendations"
   ]
  },
  {
   "cell_type": "markdown",
   "metadata": {},
   "source": [
    "The analysis will have a more accurate results if the following limitaitons are solved:\n",
    "- Time constraint\n",
    "- More background data on the students who dropped out\n",
    "- More data on how pandamic that occur in 2020 changes the total sat score distribution\n",
    "<br>\n",
    "\n",
    "The key takeaway is that there is correlation between dropout with the total SAT scores by the students by a certain extent. This means that there are other highly more correlated factors that causes the dropout of university and further research is required.\n",
    "<br>\n",
    "Therefore, standardized test can only be **one of the ways** to predict and reducing the number of dropouts and it should be combined with other correlated factors for more accuracy.\n",
    "<br>\n",
    "In the future, I hope that I can implement features such as forcasting dropouts of student using of machine learning."
   ]
  }
 ],
 "metadata": {
  "anaconda-cloud": {},
  "kernelspec": {
   "display_name": "Python 3 (ipykernel)",
   "language": "python",
   "name": "python3"
  },
  "language_info": {
   "codemirror_mode": {
    "name": "ipython",
    "version": 3
   },
   "file_extension": ".py",
   "mimetype": "text/x-python",
   "name": "python",
   "nbconvert_exporter": "python",
   "pygments_lexer": "ipython3",
   "version": "3.10.6"
  }
 },
 "nbformat": 4,
 "nbformat_minor": 4
}
